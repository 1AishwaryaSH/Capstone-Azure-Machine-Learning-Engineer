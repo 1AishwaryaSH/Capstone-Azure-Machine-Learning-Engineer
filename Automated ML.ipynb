{
 "cells": [
  {
   "cell_type": "markdown",
   "metadata": {},
   "source": [
    "# Automated ML"
   ]
  },
  {
   "cell_type": "code",
   "execution_count": 1,
   "metadata": {
    "gather": {
     "logged": 1598423888013
    },
    "jupyter": {
     "outputs_hidden": false,
     "source_hidden": false
    },
    "nteract": {
     "transient": {
      "deleting": false
     }
    }
   },
   "outputs": [],
   "source": [
    "#Import Dependencies\n",
    "from azureml.data.dataset_factory import TabularDatasetFactory\n",
    "import joblib\n",
    "from azureml.train.automl import AutoMLConfig\n",
    "from azureml.core import Workspace, Experiment, Dataset\n",
    "from azureml.core.compute import ComputeTarget, AmlCompute\n",
    "from azureml.core.compute_target import ComputeTargetException\n",
    "from azureml.widgets import RunDetails\n",
    "import os\n",
    "import joblib\n",
    "from azureml.core import Experiment\n",
    "from azureml.core.model import Model"
   ]
  },
  {
   "cell_type": "code",
   "execution_count": 2,
   "metadata": {
    "scrolled": false
   },
   "outputs": [
    {
     "name": "stdout",
     "output_type": "stream",
     "text": [
      "Workspace name: quick-starts-ws-136095\n",
      "Azure region: southcentralus\n",
      "Subscription id: 3d1a56d2-7c81-4118-9790-f85d1acf0c77\n",
      "Resource group: aml-quickstarts-136095\n",
      "New cluster is created\n",
      "Creating\n",
      "Succeeded\n",
      "AmlCompute wait for completion finished\n",
      "\n",
      "Minimum number of nodes requested have been provisioned\n"
     ]
    }
   ],
   "source": [
    "#find the workspace and create the environment with the name \"AutomatedML\". Start logging using exp.\n",
    "ws = Workspace.from_config()\n",
    "exp = Experiment(workspace=ws, name=\"AutomatedML\")\n",
    "\n",
    "print('Workspace name: ' + ws.name, \n",
    "      'Azure region: ' + ws.location, \n",
    "      'Subscription id: ' + ws.subscription_id, \n",
    "      'Resource group: ' + ws.resource_group, sep = '\\n')\n",
    "\n",
    "run = exp.start_logging()\n",
    "\n",
    "# Choose a name for your CPU cluster\n",
    "cpu_cluster_name = \"cpuabccluster\"\n",
    "\n",
    "# to verify that cluster does not exist already\n",
    "try:\n",
    "    cpu_cluster = ComputeTarget(workspace=ws, name=cpu_cluster_name)\n",
    "    print('Found existing cluster')\n",
    "    \n",
    "#create a new cluster with the specified configurations \"vm_size='STANDARD_D12_V2' and max number of nodes as 4\n",
    "except ComputeTargetException:\n",
    "    \n",
    "    compute_config = AmlCompute.provisioning_configuration(vm_size='STANDARD_D12_V2', max_nodes=4)\n",
    "    cpu_cluster = ComputeTarget.create(ws, cpu_cluster_name, compute_config)\n",
    "    print(\"New cluster is created\")\n",
    "    \n",
    "cpu_cluster.wait_for_completion(show_output=True)\n"
   ]
  },
  {
   "cell_type": "markdown",
   "metadata": {},
   "source": [
    "## Dataset\n",
    "\n",
    "### Overview\n",
    "I pass used the an open dataset from Kaggle Heart Failure Prediction (https://www.kaggle.com/andrewmvd/heart-failure-clinical-data). The dataset has 299 records of the patients.\n",
    "\n",
    "#### Task\n",
    "Heart failure is a common event caused by Cardiovascular diseases (CVDs) and this dataset contains 12 features that can be used to predict mortality by heart failure.\n",
    "\n",
    "#### Access\n",
    "The dataset is stored at\n",
    "https://raw.githubusercontent.com/1AishwaryaSH/ML-Engineer-with-Azure-Capstone/main/heart_failure_clinical_records_dataset.csv\n",
    "\n",
    "I imported the data into azure platform by uploading it from local files into Datasets for automated ML model."
   ]
  },
  {
   "cell_type": "code",
   "execution_count": 3,
   "metadata": {
    "gather": {
     "logged": 1598423890461
    },
    "jupyter": {
     "outputs_hidden": false,
     "source_hidden": false
    },
    "nteract": {
     "transient": {
      "deleting": false
     }
    }
   },
   "outputs": [
    {
     "data": {
      "text/html": [
       "<div>\n",
       "<style scoped>\n",
       "    .dataframe tbody tr th:only-of-type {\n",
       "        vertical-align: middle;\n",
       "    }\n",
       "\n",
       "    .dataframe tbody tr th {\n",
       "        vertical-align: top;\n",
       "    }\n",
       "\n",
       "    .dataframe thead th {\n",
       "        text-align: right;\n",
       "    }\n",
       "</style>\n",
       "<table border=\"1\" class=\"dataframe\">\n",
       "  <thead>\n",
       "    <tr style=\"text-align: right;\">\n",
       "      <th></th>\n",
       "      <th>age</th>\n",
       "      <th>anaemia</th>\n",
       "      <th>creatinine_phosphokinase</th>\n",
       "      <th>diabetes</th>\n",
       "      <th>ejection_fraction</th>\n",
       "      <th>high_blood_pressure</th>\n",
       "      <th>platelets</th>\n",
       "      <th>serum_creatinine</th>\n",
       "      <th>serum_sodium</th>\n",
       "      <th>sex</th>\n",
       "      <th>smoking</th>\n",
       "      <th>time</th>\n",
       "      <th>DEATH_EVENT</th>\n",
       "    </tr>\n",
       "  </thead>\n",
       "  <tbody>\n",
       "    <tr>\n",
       "      <th>0</th>\n",
       "      <td>75.0</td>\n",
       "      <td>0</td>\n",
       "      <td>582</td>\n",
       "      <td>0</td>\n",
       "      <td>20</td>\n",
       "      <td>1</td>\n",
       "      <td>265000.00</td>\n",
       "      <td>1.9</td>\n",
       "      <td>130</td>\n",
       "      <td>1</td>\n",
       "      <td>0</td>\n",
       "      <td>4</td>\n",
       "      <td>1</td>\n",
       "    </tr>\n",
       "    <tr>\n",
       "      <th>1</th>\n",
       "      <td>55.0</td>\n",
       "      <td>0</td>\n",
       "      <td>7861</td>\n",
       "      <td>0</td>\n",
       "      <td>38</td>\n",
       "      <td>0</td>\n",
       "      <td>263358.03</td>\n",
       "      <td>1.1</td>\n",
       "      <td>136</td>\n",
       "      <td>1</td>\n",
       "      <td>0</td>\n",
       "      <td>6</td>\n",
       "      <td>1</td>\n",
       "    </tr>\n",
       "    <tr>\n",
       "      <th>2</th>\n",
       "      <td>65.0</td>\n",
       "      <td>0</td>\n",
       "      <td>146</td>\n",
       "      <td>0</td>\n",
       "      <td>20</td>\n",
       "      <td>0</td>\n",
       "      <td>162000.00</td>\n",
       "      <td>1.3</td>\n",
       "      <td>129</td>\n",
       "      <td>1</td>\n",
       "      <td>1</td>\n",
       "      <td>7</td>\n",
       "      <td>1</td>\n",
       "    </tr>\n",
       "    <tr>\n",
       "      <th>3</th>\n",
       "      <td>50.0</td>\n",
       "      <td>1</td>\n",
       "      <td>111</td>\n",
       "      <td>0</td>\n",
       "      <td>20</td>\n",
       "      <td>0</td>\n",
       "      <td>210000.00</td>\n",
       "      <td>1.9</td>\n",
       "      <td>137</td>\n",
       "      <td>1</td>\n",
       "      <td>0</td>\n",
       "      <td>7</td>\n",
       "      <td>1</td>\n",
       "    </tr>\n",
       "    <tr>\n",
       "      <th>4</th>\n",
       "      <td>65.0</td>\n",
       "      <td>1</td>\n",
       "      <td>160</td>\n",
       "      <td>1</td>\n",
       "      <td>20</td>\n",
       "      <td>0</td>\n",
       "      <td>327000.00</td>\n",
       "      <td>2.7</td>\n",
       "      <td>116</td>\n",
       "      <td>0</td>\n",
       "      <td>0</td>\n",
       "      <td>8</td>\n",
       "      <td>1</td>\n",
       "    </tr>\n",
       "    <tr>\n",
       "      <th>...</th>\n",
       "      <td>...</td>\n",
       "      <td>...</td>\n",
       "      <td>...</td>\n",
       "      <td>...</td>\n",
       "      <td>...</td>\n",
       "      <td>...</td>\n",
       "      <td>...</td>\n",
       "      <td>...</td>\n",
       "      <td>...</td>\n",
       "      <td>...</td>\n",
       "      <td>...</td>\n",
       "      <td>...</td>\n",
       "      <td>...</td>\n",
       "    </tr>\n",
       "    <tr>\n",
       "      <th>294</th>\n",
       "      <td>62.0</td>\n",
       "      <td>0</td>\n",
       "      <td>61</td>\n",
       "      <td>1</td>\n",
       "      <td>38</td>\n",
       "      <td>1</td>\n",
       "      <td>155000.00</td>\n",
       "      <td>1.1</td>\n",
       "      <td>143</td>\n",
       "      <td>1</td>\n",
       "      <td>1</td>\n",
       "      <td>270</td>\n",
       "      <td>0</td>\n",
       "    </tr>\n",
       "    <tr>\n",
       "      <th>295</th>\n",
       "      <td>55.0</td>\n",
       "      <td>0</td>\n",
       "      <td>1820</td>\n",
       "      <td>0</td>\n",
       "      <td>38</td>\n",
       "      <td>0</td>\n",
       "      <td>270000.00</td>\n",
       "      <td>1.2</td>\n",
       "      <td>139</td>\n",
       "      <td>0</td>\n",
       "      <td>0</td>\n",
       "      <td>271</td>\n",
       "      <td>0</td>\n",
       "    </tr>\n",
       "    <tr>\n",
       "      <th>296</th>\n",
       "      <td>45.0</td>\n",
       "      <td>0</td>\n",
       "      <td>2060</td>\n",
       "      <td>1</td>\n",
       "      <td>60</td>\n",
       "      <td>0</td>\n",
       "      <td>742000.00</td>\n",
       "      <td>0.8</td>\n",
       "      <td>138</td>\n",
       "      <td>0</td>\n",
       "      <td>0</td>\n",
       "      <td>278</td>\n",
       "      <td>0</td>\n",
       "    </tr>\n",
       "    <tr>\n",
       "      <th>297</th>\n",
       "      <td>45.0</td>\n",
       "      <td>0</td>\n",
       "      <td>2413</td>\n",
       "      <td>0</td>\n",
       "      <td>38</td>\n",
       "      <td>0</td>\n",
       "      <td>140000.00</td>\n",
       "      <td>1.4</td>\n",
       "      <td>140</td>\n",
       "      <td>1</td>\n",
       "      <td>1</td>\n",
       "      <td>280</td>\n",
       "      <td>0</td>\n",
       "    </tr>\n",
       "    <tr>\n",
       "      <th>298</th>\n",
       "      <td>50.0</td>\n",
       "      <td>0</td>\n",
       "      <td>196</td>\n",
       "      <td>0</td>\n",
       "      <td>45</td>\n",
       "      <td>0</td>\n",
       "      <td>395000.00</td>\n",
       "      <td>1.6</td>\n",
       "      <td>136</td>\n",
       "      <td>1</td>\n",
       "      <td>1</td>\n",
       "      <td>285</td>\n",
       "      <td>0</td>\n",
       "    </tr>\n",
       "  </tbody>\n",
       "</table>\n",
       "<p>299 rows × 13 columns</p>\n",
       "</div>"
      ],
      "text/plain": [
       "      age  anaemia  creatinine_phosphokinase  diabetes  ejection_fraction  \\\n",
       "0    75.0        0                       582         0                 20   \n",
       "1    55.0        0                      7861         0                 38   \n",
       "2    65.0        0                       146         0                 20   \n",
       "3    50.0        1                       111         0                 20   \n",
       "4    65.0        1                       160         1                 20   \n",
       "..    ...      ...                       ...       ...                ...   \n",
       "294  62.0        0                        61         1                 38   \n",
       "295  55.0        0                      1820         0                 38   \n",
       "296  45.0        0                      2060         1                 60   \n",
       "297  45.0        0                      2413         0                 38   \n",
       "298  50.0        0                       196         0                 45   \n",
       "\n",
       "     high_blood_pressure  platelets  serum_creatinine  serum_sodium  sex  \\\n",
       "0                      1  265000.00               1.9           130    1   \n",
       "1                      0  263358.03               1.1           136    1   \n",
       "2                      0  162000.00               1.3           129    1   \n",
       "3                      0  210000.00               1.9           137    1   \n",
       "4                      0  327000.00               2.7           116    0   \n",
       "..                   ...        ...               ...           ...  ...   \n",
       "294                    1  155000.00               1.1           143    1   \n",
       "295                    0  270000.00               1.2           139    0   \n",
       "296                    0  742000.00               0.8           138    0   \n",
       "297                    0  140000.00               1.4           140    1   \n",
       "298                    0  395000.00               1.6           136    1   \n",
       "\n",
       "     smoking  time  DEATH_EVENT  \n",
       "0          0     4            1  \n",
       "1          0     6            1  \n",
       "2          1     7            1  \n",
       "3          0     7            1  \n",
       "4          0     8            1  \n",
       "..       ...   ...          ...  \n",
       "294        1   270            0  \n",
       "295        0   271            0  \n",
       "296        0   278            0  \n",
       "297        1   280            0  \n",
       "298        1   285            0  \n",
       "\n",
       "[299 rows x 13 columns]"
      ]
     },
     "execution_count": 3,
     "metadata": {},
     "output_type": "execute_result"
    }
   ],
   "source": [
    "# azureml-core of version 1.0.72 or higher is required\n",
    "# azureml-dataprep[pandas] of version 1.1.34 or higher is required\n",
    "from azureml.core import Workspace, Dataset\n",
    "\n",
    "subscription_id = '3d1a56d2-7c81-4118-9790-f85d1acf0c77'\n",
    "resource_group = 'aml-quickstarts-136095'\n",
    "workspace_name = 'quick-starts-ws-136095'\n",
    "\n",
    "workspace = Workspace(subscription_id, resource_group, workspace_name)\n",
    "\n",
    "dataset = Dataset.get_by_name(workspace, name='heart')\n",
    "dataset.to_pandas_dataframe()"
   ]
  },
  {
   "cell_type": "markdown",
   "metadata": {},
   "source": [
    "## AutoML Configuration\n",
    "\n",
    "* n_cross_validations =5 parameter sets how many cross validations to perform, based on the same number of folds.\n",
    "* iterations specify the total number of different algorithm and parameter combinations to test during an automated ML experiment set to 30.\n",
    "* max_concurrent_iterations is 4 represents the maximum number of iterations that would be executed in parallel.\n",
    "* primary_metric as Accuracy the metric that Automated Machine Learning will optimize for model selection. Automated Machine Learning collects more metrics than it can optimize. \n",
    "* DEATH_EVENT is the target column.\n",
    "* classification task refers to a predictive modeling problem where a class label is predicted for a given example of input data.\n",
    "* experiment_timeout_minutes =30 Maximum amount of time in minutes that all iterations combined can take before the experiment terminates.\n",
    "* compute_target is the Azure Machine Learning compute target to run the Automated Machine Learning experiment on set to the cpu_cluster we created before. \n"
   ]
  },
  {
   "cell_type": "code",
   "execution_count": 4,
   "metadata": {},
   "outputs": [],
   "source": [
    "automl_settings = {\n",
    "    \"experiment_timeout_minutes\":30,\n",
    "    \"task\":'classification',\n",
    "    \"primary_metric\":'accuracy',\n",
    "    \"training_data\":dataset,\n",
    "    \"label_column_name\":'DEATH_EVENT',\n",
    "    \"iterations\":30,\n",
    "    \"max_concurrent_iterations\": 4,\n",
    "    \"n_cross_validations\":5,\n",
    " }\n",
    "\n",
    "automl_config = AutoMLConfig(\n",
    "    compute_target=cpu_cluster,\n",
    "    **automl_settings)\n"
   ]
  },
  {
   "cell_type": "code",
   "execution_count": 5,
   "metadata": {
    "gather": {
     "logged": 1598431107951
    },
    "jupyter": {
     "outputs_hidden": false,
     "source_hidden": false
    },
    "nteract": {
     "transient": {
      "deleting": false
     }
    }
   },
   "outputs": [
    {
     "name": "stdout",
     "output_type": "stream",
     "text": [
      "Running on remote.\n",
      "No run_configuration provided, running on cpuabccluster with default configuration\n",
      "Running on remote compute: cpuabccluster\n",
      "Parent Run ID: AutoML_3857386a-722a-4619-b6ff-1b5c7cb813c5\n",
      "\n",
      "Current status: FeaturesGeneration. Generating features for the dataset.\n",
      "Current status: ModelSelection. Beginning model selection.\n",
      "\n",
      "****************************************************************************************************\n",
      "DATA GUARDRAILS: \n",
      "\n",
      "TYPE:         Class balancing detection\n",
      "STATUS:       PASSED\n",
      "DESCRIPTION:  Your inputs were analyzed, and all classes are balanced in your training data.\n",
      "              Learn more about imbalanced data: https://aka.ms/AutomatedMLImbalancedData\n",
      "\n",
      "****************************************************************************************************\n",
      "\n",
      "TYPE:         Missing feature values imputation\n",
      "STATUS:       PASSED\n",
      "DESCRIPTION:  No feature missing values were detected in the training data.\n",
      "              Learn more about missing value imputation: https://aka.ms/AutomatedMLFeaturization\n",
      "\n",
      "****************************************************************************************************\n",
      "\n",
      "TYPE:         High cardinality feature detection\n",
      "STATUS:       PASSED\n",
      "DESCRIPTION:  Your inputs were analyzed, and no high cardinality features were detected.\n",
      "              Learn more about high cardinality feature handling: https://aka.ms/AutomatedMLFeaturization\n",
      "\n",
      "****************************************************************************************************\n",
      "\n",
      "****************************************************************************************************\n",
      "ITERATION: The iteration being evaluated.\n",
      "PIPELINE: A summary description of the pipeline being evaluated.\n",
      "DURATION: Time taken for the current iteration.\n",
      "METRIC: The result of computing score on the fitted pipeline.\n",
      "BEST: The best observed score thus far.\n",
      "****************************************************************************************************\n",
      "\n",
      " ITERATION   PIPELINE                                       DURATION      METRIC      BEST\n",
      "         1   MaxAbsScaler XGBoostClassifier                 0:00:40       0.8259    0.8259\n",
      "         0   MaxAbsScaler LightGBM                          0:00:49       0.8060    0.8259\n",
      "         2   MinMaxScaler RandomForest                      0:00:45       0.8293    0.8293\n",
      "         3   MinMaxScaler RandomForest                      0:00:43       0.8359    0.8359\n",
      "         7   MinMaxScaler SVM                               0:00:40       0.7091    0.8359\n",
      "         8   MaxAbsScaler GradientBoosting                  0:00:46       0.8327    0.8359\n",
      "         4   MinMaxScaler RandomForest                      0:02:41       0.8260    0.8359\n",
      "         5   RobustScaler LightGBM                          0:03:00       0.8327    0.8359\n",
      "         6   MaxAbsScaler RandomForest                      0:02:59       0.8428    0.8428\n",
      "         9   SparseNormalizer LightGBM                      0:00:42       0.7360    0.8428\n",
      "        10   StandardScalerWrapper RandomForest             0:00:46       0.8428    0.8428\n",
      "        11   MaxAbsScaler LightGBM                          0:00:46       0.8227    0.8428\n",
      "        12   SparseNormalizer LightGBM                      0:00:43       0.8330    0.8428\n",
      "        13   StandardScalerWrapper XGBoostClassifier        0:00:50       0.8227    0.8428\n",
      "        14   RobustScaler ExtremeRandomTrees                0:00:43       0.8528    0.8528\n",
      "        15   StandardScalerWrapper RandomForest             0:00:43       0.8360    0.8528\n",
      "        16   MinMaxScaler LightGBM                          0:00:52       0.8327    0.8528\n",
      "        17   SparseNormalizer XGBoostClassifier             0:00:43       0.8428    0.8528\n",
      "        18   StandardScalerWrapper RandomForest             0:00:48       0.8328    0.8528\n",
      "        19   SparseNormalizer LightGBM                      0:00:56       0.8562    0.8562\n",
      "        20   SparseNormalizer XGBoostClassifier             0:00:50       0.8363    0.8562\n",
      "        21   SparseNormalizer XGBoostClassifier             0:00:45       0.8462    0.8562\n",
      "        22   MaxAbsScaler LightGBM                          0:00:39       0.8027    0.8562\n",
      "        23   StandardScalerWrapper LightGBM                 0:00:45       0.8292    0.8562\n",
      "        24   StandardScalerWrapper LightGBM                 0:00:50       0.7860    0.8562\n",
      "        25   StandardScalerWrapper LightGBM                 0:00:40       0.8293    0.8562\n",
      "        26   StandardScalerWrapper LightGBM                 0:00:40       0.7526    0.8562\n",
      "        27   StandardScalerWrapper RandomForest             0:00:44       0.8158    0.8562\n",
      "        28    VotingEnsemble                                0:01:21       0.8730    0.8730\n",
      "        29    StackEnsemble                                 0:01:21       0.8562    0.8730\n"
     ]
    }
   ],
   "source": [
    "# Submit experiment\n",
    "remote_run=exp.submit(automl_config, show_output=True)\n"
   ]
  },
  {
   "cell_type": "markdown",
   "metadata": {},
   "source": [
    "## Run Details"
   ]
  },
  {
   "cell_type": "code",
   "execution_count": 6,
   "metadata": {},
   "outputs": [
    {
     "data": {
      "application/vnd.jupyter.widget-view+json": {
       "model_id": "248693c3a2dd4477b5c39bf2747f7aae",
       "version_major": 2,
       "version_minor": 0
      },
      "text/plain": [
       "_AutoMLWidget(widget_settings={'childWidgetDisplay': 'popup', 'send_telemetry': False, 'log_level': 'INFO', 's…"
      ]
     },
     "metadata": {},
     "output_type": "display_data"
    },
    {
     "data": {
      "application/aml.mini.widget.v1": "{\"status\": \"Completed\", \"workbench_run_details_uri\": \"https://ml.azure.com/experiments/AutomatedML/runs/AutoML_3857386a-722a-4619-b6ff-1b5c7cb813c5?wsid=/subscriptions/3d1a56d2-7c81-4118-9790-f85d1acf0c77/resourcegroups/aml-quickstarts-136095/workspaces/quick-starts-ws-136095\", \"run_id\": \"AutoML_3857386a-722a-4619-b6ff-1b5c7cb813c5\", \"run_properties\": {\"run_id\": \"AutoML_3857386a-722a-4619-b6ff-1b5c7cb813c5\", \"created_utc\": \"2021-01-26T08:42:31.312742Z\", \"properties\": {\"num_iterations\": \"30\", \"training_type\": \"TrainFull\", \"acquisition_function\": \"EI\", \"primary_metric\": \"accuracy\", \"train_split\": \"0\", \"acquisition_parameter\": \"0\", \"num_cross_validation\": \"5\", \"target\": \"cpuabccluster\", \"AMLSettingsJsonString\": \"{\\\"path\\\":null,\\\"name\\\":\\\"AutomatedML\\\",\\\"subscription_id\\\":\\\"3d1a56d2-7c81-4118-9790-f85d1acf0c77\\\",\\\"resource_group\\\":\\\"aml-quickstarts-136095\\\",\\\"workspace_name\\\":\\\"quick-starts-ws-136095\\\",\\\"region\\\":\\\"southcentralus\\\",\\\"compute_target\\\":\\\"cpuabccluster\\\",\\\"spark_service\\\":null,\\\"azure_service\\\":\\\"remote\\\",\\\"many_models\\\":false,\\\"pipeline_fetch_max_batch_size\\\":1,\\\"iterations\\\":30,\\\"primary_metric\\\":\\\"accuracy\\\",\\\"task_type\\\":\\\"classification\\\",\\\"data_script\\\":null,\\\"validation_size\\\":0.0,\\\"n_cross_validations\\\":5,\\\"y_min\\\":null,\\\"y_max\\\":null,\\\"num_classes\\\":null,\\\"featurization\\\":\\\"auto\\\",\\\"_ignore_package_version_incompatibilities\\\":false,\\\"is_timeseries\\\":false,\\\"max_cores_per_iteration\\\":1,\\\"max_concurrent_iterations\\\":4,\\\"iteration_timeout_minutes\\\":null,\\\"mem_in_mb\\\":null,\\\"enforce_time_on_windows\\\":false,\\\"experiment_timeout_minutes\\\":30,\\\"experiment_exit_score\\\":null,\\\"whitelist_models\\\":null,\\\"blacklist_algos\\\":[\\\"TensorFlowLinearClassifier\\\",\\\"TensorFlowDNN\\\"],\\\"supported_models\\\":[\\\"TensorFlowDNN\\\",\\\"TensorFlowLinearClassifier\\\",\\\"XGBoostClassifier\\\",\\\"LightGBM\\\",\\\"BernoulliNaiveBayes\\\",\\\"KNN\\\",\\\"SVM\\\",\\\"DecisionTree\\\",\\\"ExtremeRandomTrees\\\",\\\"AveragedPerceptronClassifier\\\",\\\"LogisticRegression\\\",\\\"MultinomialNaiveBayes\\\",\\\"GradientBoosting\\\",\\\"LinearSVM\\\",\\\"SGD\\\",\\\"RandomForest\\\"],\\\"auto_blacklist\\\":true,\\\"blacklist_samples_reached\\\":false,\\\"exclude_nan_labels\\\":true,\\\"verbosity\\\":20,\\\"_debug_log\\\":\\\"azureml_automl.log\\\",\\\"show_warnings\\\":false,\\\"model_explainability\\\":true,\\\"service_url\\\":null,\\\"sdk_url\\\":null,\\\"sdk_packages\\\":null,\\\"enable_onnx_compatible_models\\\":false,\\\"enable_split_onnx_featurizer_estimator_models\\\":false,\\\"vm_type\\\":\\\"STANDARD_D12_V2\\\",\\\"telemetry_verbosity\\\":20,\\\"send_telemetry\\\":true,\\\"enable_dnn\\\":false,\\\"scenario\\\":\\\"SDK-1.13.0\\\",\\\"environment_label\\\":null,\\\"force_text_dnn\\\":false,\\\"enable_feature_sweeping\\\":true,\\\"enable_early_stopping\\\":false,\\\"early_stopping_n_iters\\\":10,\\\"metrics\\\":null,\\\"enable_ensembling\\\":true,\\\"enable_stack_ensembling\\\":true,\\\"ensemble_iterations\\\":15,\\\"enable_tf\\\":false,\\\"enable_subsampling\\\":false,\\\"subsample_seed\\\":null,\\\"enable_nimbusml\\\":false,\\\"enable_streaming\\\":false,\\\"force_streaming\\\":false,\\\"track_child_runs\\\":true,\\\"allowed_private_models\\\":[],\\\"label_column_name\\\":\\\"DEATH_EVENT\\\",\\\"weight_column_name\\\":null,\\\"cv_split_column_names\\\":null,\\\"enable_local_managed\\\":false,\\\"_local_managed_run_id\\\":null,\\\"cost_mode\\\":1,\\\"lag_length\\\":0,\\\"metric_operation\\\":\\\"maximize\\\",\\\"preprocess\\\":true}\", \"DataPrepJsonString\": \"{\\\\\\\"training_data\\\\\\\": \\\\\\\"{\\\\\\\\\\\\\\\"blocks\\\\\\\\\\\\\\\": [{\\\\\\\\\\\\\\\"id\\\\\\\\\\\\\\\": \\\\\\\\\\\\\\\"b6342c15-4b4c-4946-b789-7242820b82be\\\\\\\\\\\\\\\", \\\\\\\\\\\\\\\"type\\\\\\\\\\\\\\\": \\\\\\\\\\\\\\\"Microsoft.DPrep.GetDatastoreFilesBlock\\\\\\\\\\\\\\\", \\\\\\\\\\\\\\\"arguments\\\\\\\\\\\\\\\": {\\\\\\\\\\\\\\\"datastores\\\\\\\\\\\\\\\": [{\\\\\\\\\\\\\\\"datastoreName\\\\\\\\\\\\\\\": \\\\\\\\\\\\\\\"workspaceblobstore\\\\\\\\\\\\\\\", \\\\\\\\\\\\\\\"path\\\\\\\\\\\\\\\": \\\\\\\\\\\\\\\"UI/01-26-2021_083623_UTC/heart_failure_clinical_records_dataset.csv\\\\\\\\\\\\\\\", \\\\\\\\\\\\\\\"resourceGroup\\\\\\\\\\\\\\\": \\\\\\\\\\\\\\\"aml-quickstarts-136095\\\\\\\\\\\\\\\", \\\\\\\\\\\\\\\"subscription\\\\\\\\\\\\\\\": \\\\\\\\\\\\\\\"3d1a56d2-7c81-4118-9790-f85d1acf0c77\\\\\\\\\\\\\\\", \\\\\\\\\\\\\\\"workspaceName\\\\\\\\\\\\\\\": \\\\\\\\\\\\\\\"quick-starts-ws-136095\\\\\\\\\\\\\\\"}]}, \\\\\\\\\\\\\\\"localData\\\\\\\\\\\\\\\": {}, \\\\\\\\\\\\\\\"isEnabled\\\\\\\\\\\\\\\": true, \\\\\\\\\\\\\\\"name\\\\\\\\\\\\\\\": null, \\\\\\\\\\\\\\\"annotation\\\\\\\\\\\\\\\": null}, {\\\\\\\\\\\\\\\"id\\\\\\\\\\\\\\\": \\\\\\\\\\\\\\\"b5b81ff4-25c2-402a-971f-6f4889cf6a5f\\\\\\\\\\\\\\\", \\\\\\\\\\\\\\\"type\\\\\\\\\\\\\\\": \\\\\\\\\\\\\\\"Microsoft.DPrep.ParseDelimitedBlock\\\\\\\\\\\\\\\", \\\\\\\\\\\\\\\"arguments\\\\\\\\\\\\\\\": {\\\\\\\\\\\\\\\"columnHeadersMode\\\\\\\\\\\\\\\": 1, \\\\\\\\\\\\\\\"fileEncoding\\\\\\\\\\\\\\\": 0, \\\\\\\\\\\\\\\"handleQuotedLineBreaks\\\\\\\\\\\\\\\": false, \\\\\\\\\\\\\\\"preview\\\\\\\\\\\\\\\": false, \\\\\\\\\\\\\\\"separator\\\\\\\\\\\\\\\": \\\\\\\\\\\\\\\",\\\\\\\\\\\\\\\", \\\\\\\\\\\\\\\"skipRows\\\\\\\\\\\\\\\": 0, \\\\\\\\\\\\\\\"skipRowsMode\\\\\\\\\\\\\\\": 0}, \\\\\\\\\\\\\\\"localData\\\\\\\\\\\\\\\": {}, \\\\\\\\\\\\\\\"isEnabled\\\\\\\\\\\\\\\": true, \\\\\\\\\\\\\\\"name\\\\\\\\\\\\\\\": null, \\\\\\\\\\\\\\\"annotation\\\\\\\\\\\\\\\": null}, {\\\\\\\\\\\\\\\"id\\\\\\\\\\\\\\\": \\\\\\\\\\\\\\\"0803273f-e483-4a8a-b61f-3e5adc16ee7c\\\\\\\\\\\\\\\", \\\\\\\\\\\\\\\"type\\\\\\\\\\\\\\\": \\\\\\\\\\\\\\\"Microsoft.DPrep.DropColumnsBlock\\\\\\\\\\\\\\\", \\\\\\\\\\\\\\\"arguments\\\\\\\\\\\\\\\": {\\\\\\\\\\\\\\\"columns\\\\\\\\\\\\\\\": {\\\\\\\\\\\\\\\"type\\\\\\\\\\\\\\\": 0, \\\\\\\\\\\\\\\"details\\\\\\\\\\\\\\\": {\\\\\\\\\\\\\\\"selectedColumns\\\\\\\\\\\\\\\": [\\\\\\\\\\\\\\\"Path\\\\\\\\\\\\\\\"]}}}, \\\\\\\\\\\\\\\"localData\\\\\\\\\\\\\\\": {}, \\\\\\\\\\\\\\\"isEnabled\\\\\\\\\\\\\\\": true, \\\\\\\\\\\\\\\"name\\\\\\\\\\\\\\\": null, \\\\\\\\\\\\\\\"annotation\\\\\\\\\\\\\\\": null}, {\\\\\\\\\\\\\\\"id\\\\\\\\\\\\\\\": \\\\\\\\\\\\\\\"888a1491-8373-40b9-9fe4-05f04831066f\\\\\\\\\\\\\\\", \\\\\\\\\\\\\\\"type\\\\\\\\\\\\\\\": \\\\\\\\\\\\\\\"Microsoft.DPrep.SetColumnTypesBlock\\\\\\\\\\\\\\\", \\\\\\\\\\\\\\\"arguments\\\\\\\\\\\\\\\": {\\\\\\\\\\\\\\\"columnConversion\\\\\\\\\\\\\\\": [{\\\\\\\\\\\\\\\"column\\\\\\\\\\\\\\\": {\\\\\\\\\\\\\\\"type\\\\\\\\\\\\\\\": 2, \\\\\\\\\\\\\\\"details\\\\\\\\\\\\\\\": {\\\\\\\\\\\\\\\"selectedColumn\\\\\\\\\\\\\\\": \\\\\\\\\\\\\\\"Path\\\\\\\\\\\\\\\"}}, \\\\\\\\\\\\\\\"typeProperty\\\\\\\\\\\\\\\": 0}, {\\\\\\\\\\\\\\\"column\\\\\\\\\\\\\\\": {\\\\\\\\\\\\\\\"type\\\\\\\\\\\\\\\": 2, \\\\\\\\\\\\\\\"details\\\\\\\\\\\\\\\": {\\\\\\\\\\\\\\\"selectedColumn\\\\\\\\\\\\\\\": \\\\\\\\\\\\\\\"age\\\\\\\\\\\\\\\"}}, \\\\\\\\\\\\\\\"typeProperty\\\\\\\\\\\\\\\": 3}, {\\\\\\\\\\\\\\\"column\\\\\\\\\\\\\\\": {\\\\\\\\\\\\\\\"type\\\\\\\\\\\\\\\": 2, \\\\\\\\\\\\\\\"details\\\\\\\\\\\\\\\": {\\\\\\\\\\\\\\\"selectedColumn\\\\\\\\\\\\\\\": \\\\\\\\\\\\\\\"anaemia\\\\\\\\\\\\\\\"}}, \\\\\\\\\\\\\\\"typeProperty\\\\\\\\\\\\\\\": 2}, {\\\\\\\\\\\\\\\"column\\\\\\\\\\\\\\\": {\\\\\\\\\\\\\\\"type\\\\\\\\\\\\\\\": 2, \\\\\\\\\\\\\\\"details\\\\\\\\\\\\\\\": {\\\\\\\\\\\\\\\"selectedColumn\\\\\\\\\\\\\\\": \\\\\\\\\\\\\\\"creatinine_phosphokinase\\\\\\\\\\\\\\\"}}, \\\\\\\\\\\\\\\"typeProperty\\\\\\\\\\\\\\\": 2}, {\\\\\\\\\\\\\\\"column\\\\\\\\\\\\\\\": {\\\\\\\\\\\\\\\"type\\\\\\\\\\\\\\\": 2, \\\\\\\\\\\\\\\"details\\\\\\\\\\\\\\\": {\\\\\\\\\\\\\\\"selectedColumn\\\\\\\\\\\\\\\": \\\\\\\\\\\\\\\"diabetes\\\\\\\\\\\\\\\"}}, \\\\\\\\\\\\\\\"typeProperty\\\\\\\\\\\\\\\": 2}, {\\\\\\\\\\\\\\\"column\\\\\\\\\\\\\\\": {\\\\\\\\\\\\\\\"type\\\\\\\\\\\\\\\": 2, \\\\\\\\\\\\\\\"details\\\\\\\\\\\\\\\": {\\\\\\\\\\\\\\\"selectedColumn\\\\\\\\\\\\\\\": \\\\\\\\\\\\\\\"ejection_fraction\\\\\\\\\\\\\\\"}}, \\\\\\\\\\\\\\\"typeProperty\\\\\\\\\\\\\\\": 2}, {\\\\\\\\\\\\\\\"column\\\\\\\\\\\\\\\": {\\\\\\\\\\\\\\\"type\\\\\\\\\\\\\\\": 2, \\\\\\\\\\\\\\\"details\\\\\\\\\\\\\\\": {\\\\\\\\\\\\\\\"selectedColumn\\\\\\\\\\\\\\\": \\\\\\\\\\\\\\\"high_blood_pressure\\\\\\\\\\\\\\\"}}, \\\\\\\\\\\\\\\"typeProperty\\\\\\\\\\\\\\\": 2}, {\\\\\\\\\\\\\\\"column\\\\\\\\\\\\\\\": {\\\\\\\\\\\\\\\"type\\\\\\\\\\\\\\\": 2, \\\\\\\\\\\\\\\"details\\\\\\\\\\\\\\\": {\\\\\\\\\\\\\\\"selectedColumn\\\\\\\\\\\\\\\": \\\\\\\\\\\\\\\"platelets\\\\\\\\\\\\\\\"}}, \\\\\\\\\\\\\\\"typeProperty\\\\\\\\\\\\\\\": 3}, {\\\\\\\\\\\\\\\"column\\\\\\\\\\\\\\\": {\\\\\\\\\\\\\\\"type\\\\\\\\\\\\\\\": 2, \\\\\\\\\\\\\\\"details\\\\\\\\\\\\\\\": {\\\\\\\\\\\\\\\"selectedColumn\\\\\\\\\\\\\\\": \\\\\\\\\\\\\\\"serum_creatinine\\\\\\\\\\\\\\\"}}, \\\\\\\\\\\\\\\"typeProperty\\\\\\\\\\\\\\\": 3}, {\\\\\\\\\\\\\\\"column\\\\\\\\\\\\\\\": {\\\\\\\\\\\\\\\"type\\\\\\\\\\\\\\\": 2, \\\\\\\\\\\\\\\"details\\\\\\\\\\\\\\\": {\\\\\\\\\\\\\\\"selectedColumn\\\\\\\\\\\\\\\": \\\\\\\\\\\\\\\"serum_sodium\\\\\\\\\\\\\\\"}}, \\\\\\\\\\\\\\\"typeProperty\\\\\\\\\\\\\\\": 2}, {\\\\\\\\\\\\\\\"column\\\\\\\\\\\\\\\": {\\\\\\\\\\\\\\\"type\\\\\\\\\\\\\\\": 2, \\\\\\\\\\\\\\\"details\\\\\\\\\\\\\\\": {\\\\\\\\\\\\\\\"selectedColumn\\\\\\\\\\\\\\\": \\\\\\\\\\\\\\\"sex\\\\\\\\\\\\\\\"}}, \\\\\\\\\\\\\\\"typeProperty\\\\\\\\\\\\\\\": 2}, {\\\\\\\\\\\\\\\"column\\\\\\\\\\\\\\\": {\\\\\\\\\\\\\\\"type\\\\\\\\\\\\\\\": 2, \\\\\\\\\\\\\\\"details\\\\\\\\\\\\\\\": {\\\\\\\\\\\\\\\"selectedColumn\\\\\\\\\\\\\\\": \\\\\\\\\\\\\\\"smoking\\\\\\\\\\\\\\\"}}, \\\\\\\\\\\\\\\"typeProperty\\\\\\\\\\\\\\\": 2}, {\\\\\\\\\\\\\\\"column\\\\\\\\\\\\\\\": {\\\\\\\\\\\\\\\"type\\\\\\\\\\\\\\\": 2, \\\\\\\\\\\\\\\"details\\\\\\\\\\\\\\\": {\\\\\\\\\\\\\\\"selectedColumn\\\\\\\\\\\\\\\": \\\\\\\\\\\\\\\"time\\\\\\\\\\\\\\\"}}, \\\\\\\\\\\\\\\"typeProperty\\\\\\\\\\\\\\\": 2}, {\\\\\\\\\\\\\\\"column\\\\\\\\\\\\\\\": {\\\\\\\\\\\\\\\"type\\\\\\\\\\\\\\\": 2, \\\\\\\\\\\\\\\"details\\\\\\\\\\\\\\\": {\\\\\\\\\\\\\\\"selectedColumn\\\\\\\\\\\\\\\": \\\\\\\\\\\\\\\"DEATH_EVENT\\\\\\\\\\\\\\\"}}, \\\\\\\\\\\\\\\"typeProperty\\\\\\\\\\\\\\\": 2}]}, \\\\\\\\\\\\\\\"localData\\\\\\\\\\\\\\\": {}, \\\\\\\\\\\\\\\"isEnabled\\\\\\\\\\\\\\\": true, \\\\\\\\\\\\\\\"name\\\\\\\\\\\\\\\": null, \\\\\\\\\\\\\\\"annotation\\\\\\\\\\\\\\\": null}], \\\\\\\\\\\\\\\"inspectors\\\\\\\\\\\\\\\": [], \\\\\\\\\\\\\\\"meta\\\\\\\\\\\\\\\": {\\\\\\\\\\\\\\\"savedDatasetId\\\\\\\\\\\\\\\": \\\\\\\\\\\\\\\"7c7d9162-bda3-4afd-b7e5-60c18a8f0f35\\\\\\\\\\\\\\\", \\\\\\\\\\\\\\\"datasetType\\\\\\\\\\\\\\\": \\\\\\\\\\\\\\\"tabular\\\\\\\\\\\\\\\", \\\\\\\\\\\\\\\"subscriptionId\\\\\\\\\\\\\\\": \\\\\\\\\\\\\\\"3d1a56d2-7c81-4118-9790-f85d1acf0c77\\\\\\\\\\\\\\\", \\\\\\\\\\\\\\\"workspaceId\\\\\\\\\\\\\\\": \\\\\\\\\\\\\\\"99c7ab30-2755-4985-8866-353f61fddc72\\\\\\\\\\\\\\\", \\\\\\\\\\\\\\\"workspaceLocation\\\\\\\\\\\\\\\": \\\\\\\\\\\\\\\"southcentralus\\\\\\\\\\\\\\\"}}\\\\\\\", \\\\\\\"activities\\\\\\\": 0}\", \"EnableSubsampling\": \"False\", \"runTemplate\": \"AutoML\", \"azureml.runsource\": \"automl\", \"display_task_type\": \"classification\", \"dependencies_versions\": \"{\\\"azureml-widgets\\\": \\\"1.20.0\\\", \\\"azureml-train\\\": \\\"1.20.0\\\", \\\"azureml-train-restclients-hyperdrive\\\": \\\"1.20.0\\\", \\\"azureml-train-core\\\": \\\"1.20.0\\\", \\\"azureml-train-automl\\\": \\\"1.20.0\\\", \\\"azureml-train-automl-runtime\\\": \\\"1.20.0\\\", \\\"azureml-train-automl-client\\\": \\\"1.20.0\\\", \\\"azureml-tensorboard\\\": \\\"1.20.0\\\", \\\"azureml-telemetry\\\": \\\"1.20.0\\\", \\\"azureml-sdk\\\": \\\"1.20.0\\\", \\\"azureml-samples\\\": \\\"0+unknown\\\", \\\"azureml-pipeline\\\": \\\"1.20.0\\\", \\\"azureml-pipeline-steps\\\": \\\"1.20.0\\\", \\\"azureml-pipeline-core\\\": \\\"1.20.0\\\", \\\"azureml-opendatasets\\\": \\\"1.20.0\\\", \\\"azureml-model-management-sdk\\\": \\\"1.0.1b6.post1\\\", \\\"azureml-mlflow\\\": \\\"1.20.0.post1\\\", \\\"azureml-interpret\\\": \\\"1.20.0\\\", \\\"azureml-explain-model\\\": \\\"1.20.0\\\", \\\"azureml-defaults\\\": \\\"1.20.0\\\", \\\"azureml-dataset-runtime\\\": \\\"1.20.0\\\", \\\"azureml-dataprep\\\": \\\"2.7.3\\\", \\\"azureml-dataprep-rslex\\\": \\\"1.5.0\\\", \\\"azureml-dataprep-native\\\": \\\"27.0.0\\\", \\\"azureml-datadrift\\\": \\\"1.20.0\\\", \\\"azureml-core\\\": \\\"1.20.0\\\", \\\"azureml-contrib-services\\\": \\\"1.20.0\\\", \\\"azureml-contrib-server\\\": \\\"1.20.0\\\", \\\"azureml-contrib-reinforcementlearning\\\": \\\"1.20.0\\\", \\\"azureml-contrib-pipeline-steps\\\": \\\"1.20.0\\\", \\\"azureml-contrib-notebook\\\": \\\"1.20.0\\\", \\\"azureml-contrib-interpret\\\": \\\"1.20.0\\\", \\\"azureml-contrib-gbdt\\\": \\\"1.20.0\\\", \\\"azureml-contrib-fairness\\\": \\\"1.20.0\\\", \\\"azureml-contrib-dataset\\\": \\\"1.20.0\\\", \\\"azureml-cli-common\\\": \\\"1.20.0\\\", \\\"azureml-automl-runtime\\\": \\\"1.20.0\\\", \\\"azureml-automl-core\\\": \\\"1.20.0\\\", \\\"azureml-accel-models\\\": \\\"1.20.0\\\"}\", \"_aml_system_scenario_identification\": \"Remote.Parent\", \"ClientType\": \"SDK\", \"environment_cpu_name\": \"AzureML-AutoML\", \"environment_cpu_label\": \"prod\", \"environment_gpu_name\": \"AzureML-AutoML-GPU\", \"environment_gpu_label\": \"prod\", \"root_attribution\": \"automl\", \"attribution\": \"AutoML\", \"Orchestrator\": \"AutoML\", \"CancelUri\": \"https://southcentralus.experiments.azureml.net/jasmine/v1.0/subscriptions/3d1a56d2-7c81-4118-9790-f85d1acf0c77/resourceGroups/aml-quickstarts-136095/providers/Microsoft.MachineLearningServices/workspaces/quick-starts-ws-136095/experimentids/e5f93b9f-784a-46bb-9954-7e5f66d60f3a/cancel/AutoML_3857386a-722a-4619-b6ff-1b5c7cb813c5\", \"ClientSdkVersion\": \"1.20.0.post1\", \"snapshotId\": \"00000000-0000-0000-0000-000000000000\", \"SetupRunId\": \"AutoML_3857386a-722a-4619-b6ff-1b5c7cb813c5_setup\", \"SetupRunContainerId\": \"dcid.AutoML_3857386a-722a-4619-b6ff-1b5c7cb813c5_setup\", \"FeaturizationRunJsonPath\": \"featurizer_container.json\", \"FeaturizationRunId\": \"AutoML_3857386a-722a-4619-b6ff-1b5c7cb813c5_featurize\", \"ProblemInfoJsonString\": \"{\\\"dataset_num_categorical\\\": 0, \\\"is_sparse\\\": false, \\\"subsampling\\\": false, \\\"dataset_classes\\\": 2, \\\"dataset_features\\\": 12, \\\"dataset_samples\\\": 299, \\\"single_frequency_class_detected\\\": false}\", \"ModelExplainRunId\": \"AutoML_3857386a-722a-4619-b6ff-1b5c7cb813c5_ModelExplain\"}, \"tags\": {\"model_explain_run\": \"best_run\", \"_aml_system_azureml.automlComponent\": \"AutoML\", \"pipeline_id\": \"\", \"score\": \"\", \"predicted_cost\": \"\", \"fit_time\": \"\", \"training_percent\": \"\", \"iteration\": \"\", \"run_preprocessor\": \"\", \"run_algorithm\": \"\", \"dynamic_whitelisting_iterations\": \"<25>;\", \"automl_best_child_run_id\": \"AutoML_3857386a-722a-4619-b6ff-1b5c7cb813c5_28\", \"model_explain_best_run_child_id\": \"AutoML_3857386a-722a-4619-b6ff-1b5c7cb813c5_28\"}, \"end_time_utc\": \"2021-01-26T09:03:03.271237Z\", \"status\": \"Completed\", \"log_files\": {}, \"log_groups\": [], \"run_duration\": \"0:20:31\"}, \"child_runs\": [{\"run_id\": \"AutoML_3857386a-722a-4619-b6ff-1b5c7cb813c5_1\", \"run_number\": 6, \"metric\": null, \"status\": \"Completed\", \"run_type\": \"azureml.scriptrun\", \"training_percent\": \"100\", \"start_time\": \"2021-01-26T08:50:32.182924Z\", \"end_time\": \"2021-01-26T08:51:12.090462Z\", \"created_time\": \"2021-01-26T08:50:20.298543Z\", \"created_time_dt\": \"2021-01-26T08:50:20.298543Z\", \"duration\": \"0:00:51\", \"iteration\": \"1\", \"goal\": \"accuracy_max\", \"run_name\": \"MaxAbsScaler, XGBoostClassifier\", \"run_properties\": \"copy=True\", \"primary_metric\": 0.8259322, \"best_metric\": 0.8259322}, {\"run_id\": \"AutoML_3857386a-722a-4619-b6ff-1b5c7cb813c5_3\", \"run_number\": 7, \"metric\": null, \"status\": \"Completed\", \"run_type\": \"azureml.scriptrun\", \"training_percent\": \"100\", \"start_time\": \"2021-01-26T08:53:00.665466Z\", \"end_time\": \"2021-01-26T08:53:43.907863Z\", \"created_time\": \"2021-01-26T08:50:20.329744Z\", \"created_time_dt\": \"2021-01-26T08:50:20.329744Z\", \"duration\": \"0:03:23\", \"iteration\": \"3\", \"goal\": \"accuracy_max\", \"run_name\": \"MinMaxScaler, RandomForest\", \"run_properties\": \"copy=True, feature_range=(0, 1\", \"primary_metric\": 0.83587571, \"best_metric\": 0.83587571}, {\"run_id\": \"AutoML_3857386a-722a-4619-b6ff-1b5c7cb813c5_0\", \"run_number\": 8, \"metric\": null, \"status\": \"Completed\", \"run_type\": \"azureml.scriptrun\", \"training_percent\": \"100\", \"start_time\": \"2021-01-26T08:51:18.20362Z\", \"end_time\": \"2021-01-26T08:52:07.148697Z\", \"created_time\": \"2021-01-26T08:50:20.480311Z\", \"created_time_dt\": \"2021-01-26T08:50:20.480311Z\", \"duration\": \"0:01:46\", \"iteration\": \"0\", \"goal\": \"accuracy_max\", \"run_name\": \"MaxAbsScaler, LightGBM\", \"run_properties\": \"copy=True\", \"primary_metric\": 0.8059887, \"best_metric\": 0.8059887}, {\"run_id\": \"AutoML_3857386a-722a-4619-b6ff-1b5c7cb813c5_2\", \"run_number\": 9, \"metric\": null, \"status\": \"Completed\", \"run_type\": \"azureml.scriptrun\", \"training_percent\": \"100\", \"start_time\": \"2021-01-26T08:52:12.094981Z\", \"end_time\": \"2021-01-26T08:52:56.915624Z\", \"created_time\": \"2021-01-26T08:50:20.552393Z\", \"created_time_dt\": \"2021-01-26T08:50:20.552393Z\", \"duration\": \"0:02:36\", \"iteration\": \"2\", \"goal\": \"accuracy_max\", \"run_name\": \"MinMaxScaler, RandomForest\", \"run_properties\": \"copy=True, feature_range=(0, 1\", \"primary_metric\": 0.82932203, \"best_metric\": 0.82932203}, {\"run_id\": \"AutoML_3857386a-722a-4619-b6ff-1b5c7cb813c5_4\", \"run_number\": 10, \"metric\": null, \"status\": \"Completed\", \"run_type\": \"azureml.scriptrun\", \"training_percent\": \"100\", \"start_time\": \"2021-01-26T08:53:19.159597Z\", \"end_time\": \"2021-01-26T08:55:59.963879Z\", \"created_time\": \"2021-01-26T08:51:14.974709Z\", \"created_time_dt\": \"2021-01-26T08:51:14.974709Z\", \"duration\": \"0:04:44\", \"iteration\": \"4\", \"goal\": \"accuracy_max\", \"run_name\": \"MinMaxScaler, RandomForest\", \"run_properties\": \"copy=True, feature_range=(0, 1\", \"primary_metric\": 0.8260452, \"best_metric\": 0.83587571}, {\"run_id\": \"AutoML_3857386a-722a-4619-b6ff-1b5c7cb813c5_5\", \"run_number\": 11, \"metric\": null, \"status\": \"Completed\", \"run_type\": \"azureml.scriptrun\", \"training_percent\": \"100\", \"start_time\": \"2021-01-26T08:53:16.830086Z\", \"end_time\": \"2021-01-26T08:56:16.791085Z\", \"created_time\": \"2021-01-26T08:52:09.799932Z\", \"created_time_dt\": \"2021-01-26T08:52:09.799932Z\", \"duration\": \"0:04:06\", \"iteration\": \"5\", \"goal\": \"accuracy_max\", \"run_name\": \"RobustScaler, LightGBM\", \"run_properties\": \"copy=True, quantile_range=[25, 75], with_centering=True,\\n             with_scaling=False\", \"primary_metric\": 0.83265537, \"best_metric\": 0.83587571}, {\"run_id\": \"AutoML_3857386a-722a-4619-b6ff-1b5c7cb813c5_6\", \"run_number\": 12, \"metric\": null, \"status\": \"Completed\", \"run_type\": \"azureml.scriptrun\", \"training_percent\": \"100\", \"start_time\": \"2021-01-26T08:53:24.552447Z\", \"end_time\": \"2021-01-26T08:56:23.473053Z\", \"created_time\": \"2021-01-26T08:53:00.657578Z\", \"created_time_dt\": \"2021-01-26T08:53:00.657578Z\", \"duration\": \"0:03:22\", \"iteration\": \"6\", \"goal\": \"accuracy_max\", \"run_name\": \"MaxAbsScaler, RandomForest\", \"run_properties\": \"copy=True\", \"primary_metric\": 0.84282486, \"best_metric\": 0.84282486}, {\"run_id\": \"AutoML_3857386a-722a-4619-b6ff-1b5c7cb813c5_7\", \"run_number\": 13, \"metric\": null, \"status\": \"Completed\", \"run_type\": \"azureml.scriptrun\", \"training_percent\": \"100\", \"start_time\": \"2021-01-26T08:53:59.517528Z\", \"end_time\": \"2021-01-26T08:54:39.491676Z\", \"created_time\": \"2021-01-26T08:53:47.365166Z\", \"created_time_dt\": \"2021-01-26T08:53:47.365166Z\", \"duration\": \"0:00:52\", \"iteration\": \"7\", \"goal\": \"accuracy_max\", \"run_name\": \"MinMaxScaler, SVM\", \"run_properties\": \"copy=True, feature_range=(0, 1\", \"primary_metric\": 0.70909605, \"best_metric\": 0.84282486}, {\"run_id\": \"AutoML_3857386a-722a-4619-b6ff-1b5c7cb813c5_8\", \"run_number\": 14, \"metric\": null, \"status\": \"Completed\", \"run_type\": \"azureml.scriptrun\", \"training_percent\": \"100\", \"start_time\": \"2021-01-26T08:55:04.281883Z\", \"end_time\": \"2021-01-26T08:55:49.873688Z\", \"created_time\": \"2021-01-26T08:54:42.743587Z\", \"created_time_dt\": \"2021-01-26T08:54:42.743587Z\", \"duration\": \"0:01:07\", \"iteration\": \"8\", \"goal\": \"accuracy_max\", \"run_name\": \"MaxAbsScaler, GradientBoosting\", \"run_properties\": \"copy=True\", \"primary_metric\": 0.83271186, \"best_metric\": 0.84282486}, {\"run_id\": \"AutoML_3857386a-722a-4619-b6ff-1b5c7cb813c5_9\", \"run_number\": 15, \"metric\": null, \"status\": \"Completed\", \"run_type\": \"azureml.scriptrun\", \"training_percent\": \"100\", \"start_time\": \"2021-01-26T08:56:03.915107Z\", \"end_time\": \"2021-01-26T08:56:45.695526Z\", \"created_time\": \"2021-01-26T08:55:51.881954Z\", \"created_time_dt\": \"2021-01-26T08:55:51.881954Z\", \"duration\": \"0:00:53\", \"iteration\": \"9\", \"goal\": \"accuracy_max\", \"run_name\": \"SparseNormalizer, LightGBM\", \"run_properties\": \"<azureml.automl.runtime.shared.model_wrappers.SparseNormalizer object at 0x7efea877c358\", \"primary_metric\": 0.7360452, \"best_metric\": 0.84282486}, {\"run_id\": \"AutoML_3857386a-722a-4619-b6ff-1b5c7cb813c5_10\", \"run_number\": 16, \"metric\": null, \"status\": \"Completed\", \"run_type\": \"azureml.scriptrun\", \"training_percent\": \"100\", \"start_time\": \"2021-01-26T08:56:12.884383Z\", \"end_time\": \"2021-01-26T08:56:58.461877Z\", \"created_time\": \"2021-01-26T08:56:01.528929Z\", \"created_time_dt\": \"2021-01-26T08:56:01.528929Z\", \"duration\": \"0:00:56\", \"iteration\": \"10\", \"goal\": \"accuracy_max\", \"run_name\": \"StandardScalerWrapper, RandomForest\", \"run_properties\": \"<azureml.automl.runtime.shared.model_wrappers.StandardScalerWrapper object at 0x7f8cea2e2550\", \"primary_metric\": 0.84276836, \"best_metric\": 0.84282486}, {\"run_id\": \"AutoML_3857386a-722a-4619-b6ff-1b5c7cb813c5_11\", \"run_number\": 17, \"metric\": null, \"status\": \"Completed\", \"run_type\": \"azureml.scriptrun\", \"training_percent\": \"100\", \"start_time\": \"2021-01-26T08:56:30.02941Z\", \"end_time\": \"2021-01-26T08:57:15.848108Z\", \"created_time\": \"2021-01-26T08:56:18.489667Z\", \"created_time_dt\": \"2021-01-26T08:56:18.489667Z\", \"duration\": \"0:00:57\", \"iteration\": \"11\", \"goal\": \"accuracy_max\", \"run_name\": \"MaxAbsScaler, LightGBM\", \"run_properties\": \"copy=True\", \"primary_metric\": 0.82271186, \"best_metric\": 0.84282486}, {\"run_id\": \"AutoML_3857386a-722a-4619-b6ff-1b5c7cb813c5_12\", \"run_number\": 18, \"metric\": null, \"status\": \"Completed\", \"run_type\": \"azureml.scriptrun\", \"training_percent\": \"100\", \"start_time\": \"2021-01-26T08:56:36.323281Z\", \"end_time\": \"2021-01-26T08:57:19.003195Z\", \"created_time\": \"2021-01-26T08:56:25.163817Z\", \"created_time_dt\": \"2021-01-26T08:56:25.163817Z\", \"duration\": \"0:00:53\", \"iteration\": \"12\", \"goal\": \"accuracy_max\", \"run_name\": \"SparseNormalizer, LightGBM\", \"run_properties\": \"<azureml.automl.runtime.shared.model_wrappers.SparseNormalizer object at 0x7f38b0766048\", \"primary_metric\": 0.83299435, \"best_metric\": 0.84282486}, {\"run_id\": \"AutoML_3857386a-722a-4619-b6ff-1b5c7cb813c5_13\", \"run_number\": 19, \"metric\": null, \"status\": \"Completed\", \"run_type\": \"azureml.scriptrun\", \"training_percent\": \"100\", \"start_time\": \"2021-01-26T08:56:56.958702Z\", \"end_time\": \"2021-01-26T08:57:47.34911Z\", \"created_time\": \"2021-01-26T08:56:47.393823Z\", \"created_time_dt\": \"2021-01-26T08:56:47.393823Z\", \"duration\": \"0:00:59\", \"iteration\": \"13\", \"goal\": \"accuracy_max\", \"run_name\": \"StandardScalerWrapper, XGBoostClassifier\", \"run_properties\": \"<azureml.automl.runtime.shared.model_wrappers.StandardScalerWrapper object at 0x7f82a8ae61d0\", \"primary_metric\": 0.82265537, \"best_metric\": 0.84282486}, {\"run_id\": \"AutoML_3857386a-722a-4619-b6ff-1b5c7cb813c5_14\", \"run_number\": 20, \"metric\": null, \"status\": \"Completed\", \"run_type\": \"azureml.scriptrun\", \"training_percent\": \"100\", \"start_time\": \"2021-01-26T08:57:11.168329Z\", \"end_time\": \"2021-01-26T08:57:54.426128Z\", \"created_time\": \"2021-01-26T08:56:59.949203Z\", \"created_time_dt\": \"2021-01-26T08:56:59.949203Z\", \"duration\": \"0:00:54\", \"iteration\": \"14\", \"goal\": \"accuracy_max\", \"run_name\": \"RobustScaler, ExtremeRandomTrees\", \"run_properties\": \"copy=True, quantile_range=[25, 75], with_centering=True,\\n             with_scaling=False\", \"primary_metric\": 0.85282486, \"best_metric\": 0.85282486}, {\"run_id\": \"AutoML_3857386a-722a-4619-b6ff-1b5c7cb813c5_15\", \"run_number\": 21, \"metric\": null, \"status\": \"Completed\", \"run_type\": \"azureml.scriptrun\", \"training_percent\": \"100\", \"start_time\": \"2021-01-26T08:57:29.878268Z\", \"end_time\": \"2021-01-26T08:58:12.513569Z\", \"created_time\": \"2021-01-26T08:57:17.916362Z\", \"created_time_dt\": \"2021-01-26T08:57:17.916362Z\", \"duration\": \"0:00:54\", \"iteration\": \"15\", \"goal\": \"accuracy_max\", \"run_name\": \"StandardScalerWrapper, RandomForest\", \"run_properties\": \"<azureml.automl.runtime.shared.model_wrappers.StandardScalerWrapper object at 0x7fe6f6f2b518\", \"primary_metric\": 0.8360452, \"best_metric\": 0.85282486}, {\"run_id\": \"AutoML_3857386a-722a-4619-b6ff-1b5c7cb813c5_16\", \"run_number\": 22, \"metric\": null, \"status\": \"Completed\", \"run_type\": \"azureml.scriptrun\", \"training_percent\": \"100\", \"start_time\": \"2021-01-26T08:57:37.578388Z\", \"end_time\": \"2021-01-26T08:58:29.250Z\", \"created_time\": \"2021-01-26T08:57:24.636405Z\", \"created_time_dt\": \"2021-01-26T08:57:24.636405Z\", \"duration\": \"0:01:04\", \"iteration\": \"16\", \"goal\": \"accuracy_max\", \"run_name\": \"MinMaxScaler, LightGBM\", \"run_properties\": \"copy=True, feature_range=(0, 1\", \"primary_metric\": 0.83271186, \"best_metric\": 0.85282486}, {\"run_id\": \"AutoML_3857386a-722a-4619-b6ff-1b5c7cb813c5_17\", \"run_number\": 23, \"metric\": null, \"status\": \"Completed\", \"run_type\": \"azureml.scriptrun\", \"training_percent\": \"100\", \"start_time\": \"2021-01-26T08:58:00.281495Z\", \"end_time\": \"2021-01-26T08:58:43.266502Z\", \"created_time\": \"2021-01-26T08:57:50.661178Z\", \"created_time_dt\": \"2021-01-26T08:57:50.661178Z\", \"duration\": \"0:00:52\", \"iteration\": \"17\", \"goal\": \"accuracy_max\", \"run_name\": \"SparseNormalizer, XGBoostClassifier\", \"run_properties\": \"<azureml.automl.runtime.shared.model_wrappers.SparseNormalizer object at 0x7f35aab7a1d0\", \"primary_metric\": 0.84282486, \"best_metric\": 0.85282486}, {\"run_id\": \"AutoML_3857386a-722a-4619-b6ff-1b5c7cb813c5_18\", \"run_number\": 24, \"metric\": null, \"status\": \"Completed\", \"run_type\": \"azureml.scriptrun\", \"training_percent\": \"100\", \"start_time\": \"2021-01-26T08:58:07.7573Z\", \"end_time\": \"2021-01-26T08:58:55.413224Z\", \"created_time\": \"2021-01-26T08:57:57.451037Z\", \"created_time_dt\": \"2021-01-26T08:57:57.451037Z\", \"duration\": \"0:00:57\", \"iteration\": \"18\", \"goal\": \"accuracy_max\", \"run_name\": \"StandardScalerWrapper, RandomForest\", \"run_properties\": \"<azureml.automl.runtime.shared.model_wrappers.StandardScalerWrapper object at 0x7f4f8c8c81d0\", \"primary_metric\": 0.83276836, \"best_metric\": 0.85282486}, {\"run_id\": \"AutoML_3857386a-722a-4619-b6ff-1b5c7cb813c5_19\", \"run_number\": 25, \"metric\": null, \"status\": \"Completed\", \"run_type\": \"azureml.scriptrun\", \"training_percent\": \"100\", \"start_time\": \"2021-01-26T08:58:25.531787Z\", \"end_time\": \"2021-01-26T08:59:21.828481Z\", \"created_time\": \"2021-01-26T08:58:15.708893Z\", \"created_time_dt\": \"2021-01-26T08:58:15.708893Z\", \"duration\": \"0:01:06\", \"iteration\": \"19\", \"goal\": \"accuracy_max\", \"run_name\": \"SparseNormalizer, LightGBM\", \"run_properties\": \"<azureml.automl.runtime.shared.model_wrappers.SparseNormalizer object at 0x7f7d6401eba8\", \"primary_metric\": 0.85615819, \"best_metric\": 0.85615819}, {\"run_id\": \"AutoML_3857386a-722a-4619-b6ff-1b5c7cb813c5_20\", \"run_number\": 26, \"metric\": null, \"status\": \"Completed\", \"run_type\": \"azureml.scriptrun\", \"training_percent\": \"100\", \"start_time\": \"2021-01-26T08:58:43.399905Z\", \"end_time\": \"2021-01-26T08:59:33.738983Z\", \"created_time\": \"2021-01-26T08:58:32.709704Z\", \"created_time_dt\": \"2021-01-26T08:58:32.709704Z\", \"duration\": \"0:01:01\", \"iteration\": \"20\", \"goal\": \"accuracy_max\", \"run_name\": \"SparseNormalizer, XGBoostClassifier\", \"run_properties\": \"<azureml.automl.runtime.shared.model_wrappers.SparseNormalizer object at 0x7f3d462c5d68\", \"primary_metric\": 0.83627119, \"best_metric\": 0.85615819}, {\"run_id\": \"AutoML_3857386a-722a-4619-b6ff-1b5c7cb813c5_21\", \"run_number\": 27, \"metric\": null, \"status\": \"Completed\", \"run_type\": \"azureml.scriptrun\", \"training_percent\": \"100\", \"start_time\": \"2021-01-26T08:58:58.065369Z\", \"end_time\": \"2021-01-26T08:59:43.554934Z\", \"created_time\": \"2021-01-26T08:58:46.33294Z\", \"created_time_dt\": \"2021-01-26T08:58:46.33294Z\", \"duration\": \"0:00:57\", \"iteration\": \"21\", \"goal\": \"accuracy_max\", \"run_name\": \"SparseNormalizer, XGBoostClassifier\", \"run_properties\": \"<azureml.automl.runtime.shared.model_wrappers.SparseNormalizer object at 0x7f8408957ef0\", \"primary_metric\": 0.84615819, \"best_metric\": 0.85615819}, {\"run_id\": \"AutoML_3857386a-722a-4619-b6ff-1b5c7cb813c5_22\", \"run_number\": 28, \"metric\": null, \"status\": \"Completed\", \"run_type\": \"azureml.scriptrun\", \"training_percent\": \"100\", \"start_time\": \"2021-01-26T08:59:09.418261Z\", \"end_time\": \"2021-01-26T08:59:48.373495Z\", \"created_time\": \"2021-01-26T08:58:58.601037Z\", \"created_time_dt\": \"2021-01-26T08:58:58.601037Z\", \"duration\": \"0:00:49\", \"iteration\": \"22\", \"goal\": \"accuracy_max\", \"run_name\": \"MaxAbsScaler, LightGBM\", \"run_properties\": \"copy=True\", \"primary_metric\": 0.80271186, \"best_metric\": 0.85615819}, {\"run_id\": \"AutoML_3857386a-722a-4619-b6ff-1b5c7cb813c5_23\", \"run_number\": 29, \"metric\": null, \"status\": \"Completed\", \"run_type\": \"azureml.scriptrun\", \"training_percent\": \"100\", \"start_time\": \"2021-01-26T08:59:36.050392Z\", \"end_time\": \"2021-01-26T09:00:20.577831Z\", \"created_time\": \"2021-01-26T08:59:24.901275Z\", \"created_time_dt\": \"2021-01-26T08:59:24.901275Z\", \"duration\": \"0:00:55\", \"iteration\": \"23\", \"goal\": \"accuracy_max\", \"run_name\": \"StandardScalerWrapper, LightGBM\", \"run_properties\": \"<azureml.automl.runtime.shared.model_wrappers.StandardScalerWrapper object at 0x7f4846f77208\", \"primary_metric\": 0.82920904, \"best_metric\": 0.85615819}, {\"run_id\": \"AutoML_3857386a-722a-4619-b6ff-1b5c7cb813c5_24\", \"run_number\": 30, \"metric\": null, \"status\": \"Completed\", \"run_type\": \"azureml.scriptrun\", \"training_percent\": \"100\", \"start_time\": \"2021-01-26T08:59:46.782717Z\", \"end_time\": \"2021-01-26T09:00:37.132512Z\", \"created_time\": \"2021-01-26T08:59:36.938371Z\", \"created_time_dt\": \"2021-01-26T08:59:36.938371Z\", \"duration\": \"0:01:00\", \"iteration\": \"24\", \"goal\": \"accuracy_max\", \"run_name\": \"StandardScalerWrapper, LightGBM\", \"run_properties\": \"<azureml.automl.runtime.shared.model_wrappers.StandardScalerWrapper object at 0x7f3cdd3c2eb8\", \"primary_metric\": 0.7859887, \"best_metric\": 0.85615819}, {\"run_id\": \"AutoML_3857386a-722a-4619-b6ff-1b5c7cb813c5_25\", \"run_number\": 31, \"metric\": null, \"status\": \"Completed\", \"run_type\": \"azureml.scriptrun\", \"training_percent\": \"100\", \"start_time\": \"2021-01-26T08:59:57.65844Z\", \"end_time\": \"2021-01-26T09:00:38.15002Z\", \"created_time\": \"2021-01-26T08:59:47.986989Z\", \"created_time_dt\": \"2021-01-26T08:59:47.986989Z\", \"duration\": \"0:00:50\", \"iteration\": \"25\", \"goal\": \"accuracy_max\", \"run_name\": \"StandardScalerWrapper, LightGBM\", \"run_properties\": \"<azureml.automl.runtime.shared.model_wrappers.StandardScalerWrapper object at 0x7f04b8692358\", \"primary_metric\": 0.82926554, \"best_metric\": 0.85615819}, {\"run_id\": \"AutoML_3857386a-722a-4619-b6ff-1b5c7cb813c5_26\", \"run_number\": 32, \"metric\": null, \"status\": \"Completed\", \"run_type\": \"azureml.scriptrun\", \"training_percent\": \"100\", \"start_time\": \"2021-01-26T09:00:04.755623Z\", \"end_time\": \"2021-01-26T09:00:44.644053Z\", \"created_time\": \"2021-01-26T08:59:52.950744Z\", \"created_time_dt\": \"2021-01-26T08:59:52.950744Z\", \"duration\": \"0:00:51\", \"iteration\": \"26\", \"goal\": \"accuracy_max\", \"run_name\": \"StandardScalerWrapper, LightGBM\", \"run_properties\": \"<azureml.automl.runtime.shared.model_wrappers.StandardScalerWrapper object at 0x7f13300592b0\", \"primary_metric\": 0.75259887, \"best_metric\": 0.85615819}, {\"run_id\": \"AutoML_3857386a-722a-4619-b6ff-1b5c7cb813c5_27\", \"run_number\": 33, \"metric\": null, \"status\": \"Completed\", \"run_type\": \"azureml.scriptrun\", \"training_percent\": \"100\", \"start_time\": \"2021-01-26T09:00:32.78674Z\", \"end_time\": \"2021-01-26T09:01:17.284771Z\", \"created_time\": \"2021-01-26T09:00:22.282169Z\", \"created_time_dt\": \"2021-01-26T09:00:22.282169Z\", \"duration\": \"0:00:55\", \"iteration\": \"27\", \"goal\": \"accuracy_max\", \"run_name\": \"StandardScalerWrapper, RandomForest\", \"run_properties\": \"<azureml.automl.runtime.shared.model_wrappers.StandardScalerWrapper object at 0x7fbbac213b38\", \"primary_metric\": 0.81576271, \"best_metric\": 0.85615819}, {\"run_id\": \"AutoML_3857386a-722a-4619-b6ff-1b5c7cb813c5_28\", \"run_number\": 34, \"metric\": null, \"status\": \"Completed\", \"run_type\": \"azureml.scriptrun\", \"training_percent\": \"100\", \"start_time\": \"2021-01-26T09:01:29.967545Z\", \"end_time\": \"2021-01-26T09:02:50.605064Z\", \"created_time\": \"2021-01-26T09:01:18.123053Z\", \"created_time_dt\": \"2021-01-26T09:01:18.123053Z\", \"duration\": \"0:01:32\", \"iteration\": \"28\", \"goal\": \"accuracy_max\", \"run_name\": \"VotingEnsemble\", \"run_properties\": \"classification_labels=None,\\n                              estimators=[('19',\\n                                           Pipeline(memory=None,\\n                                                    steps=[('sparsenormalizer',\\n                                                            <azureml.automl.runtime.shared.model_wrappers.SparseNormalizer object at 0x7f481074e978>\", \"primary_metric\": 0.87299435, \"best_metric\": 0.87299435}, {\"run_id\": \"AutoML_3857386a-722a-4619-b6ff-1b5c7cb813c5_29\", \"run_number\": 35, \"metric\": null, \"status\": \"Completed\", \"run_type\": \"azureml.scriptrun\", \"training_percent\": \"100\", \"start_time\": \"2021-01-26T09:01:30.190979Z\", \"end_time\": \"2021-01-26T09:02:51.143533Z\", \"created_time\": \"2021-01-26T09:01:18.183053Z\", \"created_time_dt\": \"2021-01-26T09:01:18.183053Z\", \"duration\": \"0:01:32\", \"iteration\": \"29\", \"goal\": \"accuracy_max\", \"run_name\": \"StackEnsemble\", \"run_properties\": \"base_learners=[('19',\\n                                        Pipeline(memory=None,\\n                                                 steps=[('sparsenormalizer',\\n                                                         <azureml.automl.runtime.shared.model_wrappers.SparseNormalizer object at 0x7f274c149908>\", \"primary_metric\": 0.85615819, \"best_metric\": 0.87299435}], \"children_metrics\": {\"categories\": [0], \"series\": {\"precision_score_micro\": [{\"categories\": [\"0\", \"1\", \"2\", \"3\", \"4\", \"5\", \"6\", \"7\", \"8\", \"9\", \"10\", \"11\", \"12\", \"13\", \"14\", \"15\", \"16\", \"17\", \"18\", \"19\", \"20\", \"21\", \"22\", \"23\", \"24\", \"25\", \"26\", \"27\", \"28\", \"29\"], \"mode\": \"markers\", \"name\": \"precision_score_micro\", \"stepped\": false, \"type\": \"scatter\", \"data\": [0.8059887005649717, 0.8259322033898304, 0.8293220338983052, 0.8358757062146893, 0.8260451977401129, 0.8326553672316385, 0.8428248587570621, 0.7090960451977402, 0.8327118644067797, 0.736045197740113, 0.8427683615819209, 0.8227118644067797, 0.8329943502824859, 0.8226553672316385, 0.8528248587570622, 0.836045197740113, 0.8327118644067797, 0.8428248587570621, 0.8327683615819209, 0.8561581920903955, 0.836271186440678, 0.8461581920903954, 0.8027118644067797, 0.8292090395480226, 0.7859887005649718, 0.8292655367231638, 0.7525988700564972, 0.8157627118644066, 0.8729943502824857, 0.8561581920903955]}, {\"categories\": [\"0\", \"1\", \"2\", \"3\", \"4\", \"5\", \"6\", \"7\", \"8\", \"9\", \"10\", \"11\", \"12\", \"13\", \"14\", \"15\", \"16\", \"17\", \"18\", \"19\", \"20\", \"21\", \"22\", \"23\", \"24\", \"25\", \"26\", \"27\", \"28\", \"29\"], \"mode\": \"lines\", \"name\": \"precision_score_micro_max\", \"stepped\": true, \"type\": \"scatter\", \"data\": [0.8059887005649717, 0.8259322033898304, 0.8293220338983052, 0.8358757062146893, 0.8358757062146893, 0.8358757062146893, 0.8428248587570621, 0.8428248587570621, 0.8428248587570621, 0.8428248587570621, 0.8428248587570621, 0.8428248587570621, 0.8428248587570621, 0.8428248587570621, 0.8528248587570622, 0.8528248587570622, 0.8528248587570622, 0.8528248587570622, 0.8528248587570622, 0.8561581920903955, 0.8561581920903955, 0.8561581920903955, 0.8561581920903955, 0.8561581920903955, 0.8561581920903955, 0.8561581920903955, 0.8561581920903955, 0.8561581920903955, 0.8729943502824857, 0.8729943502824857]}], \"f1_score_macro\": [{\"categories\": [\"0\", \"1\", \"2\", \"3\", \"4\", \"5\", \"6\", \"7\", \"8\", \"9\", \"10\", \"11\", \"12\", \"13\", \"14\", \"15\", \"16\", \"17\", \"18\", \"19\", \"20\", \"21\", \"22\", \"23\", \"24\", \"25\", \"26\", \"27\", \"28\", \"29\"], \"mode\": \"markers\", \"name\": \"f1_score_macro\", \"stepped\": false, \"type\": \"scatter\", \"data\": [0.7682096405971308, 0.7972526241921125, 0.7974002667263538, 0.7940630262386617, 0.7950592716319145, 0.8007264376731207, 0.8055101253480716, 0.6036331648756077, 0.7992879126025898, 0.6252048522662619, 0.8089654156532982, 0.7815130779783559, 0.8017629707082936, 0.7744146297219825, 0.8167198057051686, 0.8050621063722069, 0.7997137972055925, 0.8128715484593225, 0.7999859822459222, 0.8262182964896002, 0.796139138447762, 0.8101538122371454, 0.7522535529567671, 0.797001333335577, 0.7202963266940601, 0.7895058806564939, 0.6489583192971069, 0.7901086262654697, 0.8460326632991864, 0.8266845595573071]}, {\"categories\": [\"0\", \"1\", \"2\", \"3\", \"4\", \"5\", \"6\", \"7\", \"8\", \"9\", \"10\", \"11\", \"12\", \"13\", \"14\", \"15\", \"16\", \"17\", \"18\", \"19\", \"20\", \"21\", \"22\", \"23\", \"24\", \"25\", \"26\", \"27\", \"28\", \"29\"], \"mode\": \"lines\", \"name\": \"f1_score_macro_max\", \"stepped\": true, \"type\": \"scatter\", \"data\": [0.7682096405971308, 0.7972526241921125, 0.7974002667263538, 0.7974002667263538, 0.7974002667263538, 0.8007264376731207, 0.8055101253480716, 0.8055101253480716, 0.8055101253480716, 0.8055101253480716, 0.8089654156532982, 0.8089654156532982, 0.8089654156532982, 0.8089654156532982, 0.8167198057051686, 0.8167198057051686, 0.8167198057051686, 0.8167198057051686, 0.8167198057051686, 0.8262182964896002, 0.8262182964896002, 0.8262182964896002, 0.8262182964896002, 0.8262182964896002, 0.8262182964896002, 0.8262182964896002, 0.8262182964896002, 0.8262182964896002, 0.8460326632991864, 0.8460326632991864]}], \"f1_score_micro\": [{\"categories\": [\"0\", \"1\", \"2\", \"3\", \"4\", \"5\", \"6\", \"7\", \"8\", \"9\", \"10\", \"11\", \"12\", \"13\", \"14\", \"15\", \"16\", \"17\", \"18\", \"19\", \"20\", \"21\", \"22\", \"23\", \"24\", \"25\", \"26\", \"27\", \"28\", \"29\"], \"mode\": \"markers\", \"name\": \"f1_score_micro\", \"stepped\": false, \"type\": \"scatter\", \"data\": [0.8059887005649718, 0.8259322033898304, 0.8293220338983052, 0.8358757062146893, 0.8260451977401131, 0.8326553672316385, 0.8428248587570621, 0.7090960451977402, 0.8327118644067797, 0.736045197740113, 0.8427683615819209, 0.8227118644067797, 0.8329943502824859, 0.8226553672316385, 0.8528248587570622, 0.836045197740113, 0.8327118644067797, 0.8428248587570621, 0.8327683615819209, 0.8561581920903955, 0.836271186440678, 0.8461581920903954, 0.8027118644067798, 0.8292090395480226, 0.7859887005649718, 0.8292655367231638, 0.7525988700564972, 0.8157627118644069, 0.8729943502824857, 0.8561581920903955]}, {\"categories\": [\"0\", \"1\", \"2\", \"3\", \"4\", \"5\", \"6\", \"7\", \"8\", \"9\", \"10\", \"11\", \"12\", \"13\", \"14\", \"15\", \"16\", \"17\", \"18\", \"19\", \"20\", \"21\", \"22\", \"23\", \"24\", \"25\", \"26\", \"27\", \"28\", \"29\"], \"mode\": \"lines\", \"name\": \"f1_score_micro_max\", \"stepped\": true, \"type\": \"scatter\", \"data\": [0.8059887005649718, 0.8259322033898304, 0.8293220338983052, 0.8358757062146893, 0.8358757062146893, 0.8358757062146893, 0.8428248587570621, 0.8428248587570621, 0.8428248587570621, 0.8428248587570621, 0.8428248587570621, 0.8428248587570621, 0.8428248587570621, 0.8428248587570621, 0.8528248587570622, 0.8528248587570622, 0.8528248587570622, 0.8528248587570622, 0.8528248587570622, 0.8561581920903955, 0.8561581920903955, 0.8561581920903955, 0.8561581920903955, 0.8561581920903955, 0.8561581920903955, 0.8561581920903955, 0.8561581920903955, 0.8561581920903955, 0.8729943502824857, 0.8729943502824857]}], \"average_precision_score_weighted\": [{\"categories\": [\"0\", \"1\", \"2\", \"3\", \"4\", \"5\", \"6\", \"7\", \"8\", \"9\", \"10\", \"11\", \"12\", \"13\", \"14\", \"15\", \"16\", \"17\", \"18\", \"19\", \"20\", \"21\", \"22\", \"23\", \"24\", \"25\", \"26\", \"27\", \"28\", \"29\"], \"mode\": \"markers\", \"name\": \"average_precision_score_weighted\", \"stepped\": false, \"type\": \"scatter\", \"data\": [0.8955370396295249, 0.9103506263314479, 0.907183551956925, 0.9175395058779257, 0.9067151140436949, 0.9003191015675167, 0.9010159092924971, 0.7675756738587173, 0.9226785038929833, 0.8458920762759519, 0.9238909761108808, 0.8899023871517153, 0.9027199794815131, 0.8948959997609753, 0.908015817937167, 0.9133658003285985, 0.9181930758134748, 0.9073593378098078, 0.9148636892435864, 0.9099004855887497, 0.8887989834562676, 0.9085203702370863, 0.8753573638077337, 0.9112061371889022, 0.9047258258455759, 0.9148445839295792, 0.8761420002565338, 0.9191018955895499, 0.9195761968618488, 0.9197422605443988]}, {\"categories\": [\"0\", \"1\", \"2\", \"3\", \"4\", \"5\", \"6\", \"7\", \"8\", \"9\", \"10\", \"11\", \"12\", \"13\", \"14\", \"15\", \"16\", \"17\", \"18\", \"19\", \"20\", \"21\", \"22\", \"23\", \"24\", \"25\", \"26\", \"27\", \"28\", \"29\"], \"mode\": \"lines\", \"name\": \"average_precision_score_weighted_max\", \"stepped\": true, \"type\": \"scatter\", \"data\": [0.8955370396295249, 0.9103506263314479, 0.9103506263314479, 0.9175395058779257, 0.9175395058779257, 0.9175395058779257, 0.9175395058779257, 0.9175395058779257, 0.9226785038929833, 0.9226785038929833, 0.9238909761108808, 0.9238909761108808, 0.9238909761108808, 0.9238909761108808, 0.9238909761108808, 0.9238909761108808, 0.9238909761108808, 0.9238909761108808, 0.9238909761108808, 0.9238909761108808, 0.9238909761108808, 0.9238909761108808, 0.9238909761108808, 0.9238909761108808, 0.9238909761108808, 0.9238909761108808, 0.9238909761108808, 0.9238909761108808, 0.9238909761108808, 0.9238909761108808]}], \"AUC_micro\": [{\"categories\": [\"0\", \"1\", \"2\", \"3\", \"4\", \"5\", \"6\", \"7\", \"8\", \"9\", \"10\", \"11\", \"12\", \"13\", \"14\", \"15\", \"16\", \"17\", \"18\", \"19\", \"20\", \"21\", \"22\", \"23\", \"24\", \"25\", \"26\", \"27\", \"28\", \"29\"], \"mode\": \"markers\", \"name\": \"AUC_micro\", \"stepped\": false, \"type\": \"scatter\", \"data\": [0.8880105014523284, 0.8999905678444892, 0.9037754636279484, 0.9113115484056304, 0.9060598965814421, 0.894743656037537, 0.8960565610137572, 0.7828305882728464, 0.9165679562067094, 0.8328210603594114, 0.9106633949375977, 0.8854616010724887, 0.8939478119314372, 0.8911529573238852, 0.901208034089821, 0.9097638290401864, 0.9065380478151234, 0.9051705129432793, 0.9059877110664241, 0.9064862746975646, 0.8876576973411217, 0.9027768680775001, 0.8780171566280442, 0.9050556193941717, 0.8807564716396948, 0.9076396629321076, 0.8531453764882377, 0.9030413833828084, 0.916246959685914, 0.9101857065338823]}, {\"categories\": [\"0\", \"1\", \"2\", \"3\", \"4\", \"5\", \"6\", \"7\", \"8\", \"9\", \"10\", \"11\", \"12\", \"13\", \"14\", \"15\", \"16\", \"17\", \"18\", \"19\", \"20\", \"21\", \"22\", \"23\", \"24\", \"25\", \"26\", \"27\", \"28\", \"29\"], \"mode\": \"lines\", \"name\": \"AUC_micro_max\", \"stepped\": true, \"type\": \"scatter\", \"data\": [0.8880105014523284, 0.8999905678444892, 0.9037754636279484, 0.9113115484056304, 0.9113115484056304, 0.9113115484056304, 0.9113115484056304, 0.9113115484056304, 0.9165679562067094, 0.9165679562067094, 0.9165679562067094, 0.9165679562067094, 0.9165679562067094, 0.9165679562067094, 0.9165679562067094, 0.9165679562067094, 0.9165679562067094, 0.9165679562067094, 0.9165679562067094, 0.9165679562067094, 0.9165679562067094, 0.9165679562067094, 0.9165679562067094, 0.9165679562067094, 0.9165679562067094, 0.9165679562067094, 0.9165679562067094, 0.9165679562067094, 0.9165679562067094, 0.9165679562067094]}], \"balanced_accuracy\": [{\"categories\": [\"0\", \"1\", \"2\", \"3\", \"4\", \"5\", \"6\", \"7\", \"8\", \"9\", \"10\", \"11\", \"12\", \"13\", \"14\", \"15\", \"16\", \"17\", \"18\", \"19\", \"20\", \"21\", \"22\", \"23\", \"24\", \"25\", \"26\", \"27\", \"28\", \"29\"], \"mode\": \"markers\", \"name\": \"balanced_accuracy\", \"stepped\": false, \"type\": \"scatter\", \"data\": [0.7760209025470652, 0.8060125968992248, 0.7988821982281284, 0.7965607696566999, 0.8056637596899225, 0.8090566168327797, 0.7939500276854928, 0.6157613510520488, 0.8058423311184939, 0.6379761904761905, 0.8099577796234773, 0.7812631506090808, 0.8043410852713178, 0.7640351605758582, 0.8076446566998893, 0.8146518549280177, 0.8041756644518273, 0.8192393410852713, 0.8054893410852714, 0.8276661129568106, 0.7924321705426356, 0.8053488372093023, 0.7578107696566999, 0.8058340254706534, 0.7176065891472868, 0.7884018549280176, 0.6495196566998892, 0.8142144241417497, 0.8399702380952381, 0.8284101605758583]}, {\"categories\": [\"0\", \"1\", \"2\", \"3\", \"4\", \"5\", \"6\", \"7\", \"8\", \"9\", \"10\", \"11\", \"12\", \"13\", \"14\", \"15\", \"16\", \"17\", \"18\", \"19\", \"20\", \"21\", \"22\", \"23\", \"24\", \"25\", \"26\", \"27\", \"28\", \"29\"], \"mode\": \"lines\", \"name\": \"balanced_accuracy_max\", \"stepped\": true, \"type\": \"scatter\", \"data\": [0.7760209025470652, 0.8060125968992248, 0.8060125968992248, 0.8060125968992248, 0.8060125968992248, 0.8090566168327797, 0.8090566168327797, 0.8090566168327797, 0.8090566168327797, 0.8090566168327797, 0.8099577796234773, 0.8099577796234773, 0.8099577796234773, 0.8099577796234773, 0.8099577796234773, 0.8146518549280177, 0.8146518549280177, 0.8192393410852713, 0.8192393410852713, 0.8276661129568106, 0.8276661129568106, 0.8276661129568106, 0.8276661129568106, 0.8276661129568106, 0.8276661129568106, 0.8276661129568106, 0.8276661129568106, 0.8276661129568106, 0.8399702380952381, 0.8399702380952381]}], \"f1_score_weighted\": [{\"categories\": [\"0\", \"1\", \"2\", \"3\", \"4\", \"5\", \"6\", \"7\", \"8\", \"9\", \"10\", \"11\", \"12\", \"13\", \"14\", \"15\", \"16\", \"17\", \"18\", \"19\", \"20\", \"21\", \"22\", \"23\", \"24\", \"25\", \"26\", \"27\", \"28\", \"29\"], \"mode\": \"markers\", \"name\": \"f1_score_weighted\", \"stepped\": false, \"type\": \"scatter\", \"data\": [0.8014398448329555, 0.8237396450256732, 0.8263534875437601, 0.8298776590999093, 0.8241430914841716, 0.8312011946191034, 0.83694533477417, 0.6771563310772688, 0.8291521186274389, 0.6920924975909098, 0.8397877869185132, 0.8161214746749401, 0.8295428462047711, 0.8120819514951683, 0.8446984662789614, 0.8345967420436871, 0.8286235308266849, 0.8401115824069109, 0.829606217987593, 0.8532706585702929, 0.8318183837933161, 0.8404266222721967, 0.7888122775759685, 0.8277624196824258, 0.7641460110043117, 0.8250677214528576, 0.7177650913719248, 0.8204471696070715, 0.8672342871168602, 0.8514196509874292]}, {\"categories\": [\"0\", \"1\", \"2\", \"3\", \"4\", \"5\", \"6\", \"7\", \"8\", \"9\", \"10\", \"11\", \"12\", \"13\", \"14\", \"15\", \"16\", \"17\", \"18\", \"19\", \"20\", \"21\", \"22\", \"23\", \"24\", \"25\", \"26\", \"27\", \"28\", \"29\"], \"mode\": \"lines\", \"name\": \"f1_score_weighted_max\", \"stepped\": true, \"type\": \"scatter\", \"data\": [0.8014398448329555, 0.8237396450256732, 0.8263534875437601, 0.8298776590999093, 0.8298776590999093, 0.8312011946191034, 0.83694533477417, 0.83694533477417, 0.83694533477417, 0.83694533477417, 0.8397877869185132, 0.8397877869185132, 0.8397877869185132, 0.8397877869185132, 0.8446984662789614, 0.8446984662789614, 0.8446984662789614, 0.8446984662789614, 0.8446984662789614, 0.8532706585702929, 0.8532706585702929, 0.8532706585702929, 0.8532706585702929, 0.8532706585702929, 0.8532706585702929, 0.8532706585702929, 0.8532706585702929, 0.8532706585702929, 0.8672342871168602, 0.8672342871168602]}], \"matthews_correlation\": [{\"categories\": [\"0\", \"1\", \"2\", \"3\", \"4\", \"5\", \"6\", \"7\", \"8\", \"9\", \"10\", \"11\", \"12\", \"13\", \"14\", \"15\", \"16\", \"17\", \"18\", \"19\", \"20\", \"21\", \"22\", \"23\", \"24\", \"25\", \"26\", \"27\", \"28\", \"29\"], \"mode\": \"markers\", \"name\": \"matthews_correlation\", \"stepped\": false, \"type\": \"scatter\", \"data\": [0.5628617041183437, 0.6132552509330647, 0.6124842075856035, 0.6092454965900902, 0.6103273039458376, 0.6167505549672592, 0.6296984645494371, 0.2819023106456784, 0.6191816075859237, 0.37006932289245953, 0.6336487921310718, 0.5894205461764175, 0.6311991764150848, 0.5832835639254463, 0.6637181448175224, 0.6276884306383601, 0.619837496255164, 0.644484891895287, 0.6189125068122916, 0.6706182874027481, 0.6150763200326426, 0.6451955059526496, 0.551473312050151, 0.6101541572758324, 0.5055706115419263, 0.5964955390365438, 0.3938411430054799, 0.6021047284598778, 0.7189991168025636, 0.6749381848703273]}, {\"categories\": [\"0\", \"1\", \"2\", \"3\", \"4\", \"5\", \"6\", \"7\", \"8\", \"9\", \"10\", \"11\", \"12\", \"13\", \"14\", \"15\", \"16\", \"17\", \"18\", \"19\", \"20\", \"21\", \"22\", \"23\", \"24\", \"25\", \"26\", \"27\", \"28\", \"29\"], \"mode\": \"lines\", \"name\": \"matthews_correlation_max\", \"stepped\": true, \"type\": \"scatter\", \"data\": [0.5628617041183437, 0.6132552509330647, 0.6132552509330647, 0.6132552509330647, 0.6132552509330647, 0.6167505549672592, 0.6296984645494371, 0.6296984645494371, 0.6296984645494371, 0.6296984645494371, 0.6336487921310718, 0.6336487921310718, 0.6336487921310718, 0.6336487921310718, 0.6637181448175224, 0.6637181448175224, 0.6637181448175224, 0.6637181448175224, 0.6637181448175224, 0.6706182874027481, 0.6706182874027481, 0.6706182874027481, 0.6706182874027481, 0.6706182874027481, 0.6706182874027481, 0.6706182874027481, 0.6706182874027481, 0.6706182874027481, 0.7189991168025636, 0.7189991168025636]}], \"AUC_weighted\": [{\"categories\": [\"0\", \"1\", \"2\", \"3\", \"4\", \"5\", \"6\", \"7\", \"8\", \"9\", \"10\", \"11\", \"12\", \"13\", \"14\", \"15\", \"16\", \"17\", \"18\", \"19\", \"20\", \"21\", \"22\", \"23\", \"24\", \"25\", \"26\", \"27\", \"28\", \"29\"], \"mode\": \"markers\", \"name\": \"AUC_weighted\", \"stepped\": false, \"type\": \"scatter\", \"data\": [0.8811331210778885, 0.8929591177556293, 0.893203776762643, 0.9045788805832411, 0.9009431063122925, 0.8863151762643042, 0.8877549372462165, 0.7394446982281285, 0.9109624861572534, 0.8303234588409006, 0.9099496816168328, 0.8940475959763751, 0.8876433877814691, 0.8888375899778517, 0.8901059662236989, 0.9031492357552665, 0.9056542312661499, 0.895641172942045, 0.9017520994832042, 0.8975282853451457, 0.8771003137689183, 0.8944780592469546, 0.8853673288113695, 0.8945483342561829, 0.8917597822074568, 0.9004085686600221, 0.852764742524917, 0.9070623385012919, 0.9113763842746401, 0.9098029946474714]}, {\"categories\": [\"0\", \"1\", \"2\", \"3\", \"4\", \"5\", \"6\", \"7\", \"8\", \"9\", \"10\", \"11\", \"12\", \"13\", \"14\", \"15\", \"16\", \"17\", \"18\", \"19\", \"20\", \"21\", \"22\", \"23\", \"24\", \"25\", \"26\", \"27\", \"28\", \"29\"], \"mode\": \"lines\", \"name\": \"AUC_weighted_max\", \"stepped\": true, \"type\": \"scatter\", \"data\": [0.8811331210778885, 0.8929591177556293, 0.893203776762643, 0.9045788805832411, 0.9045788805832411, 0.9045788805832411, 0.9045788805832411, 0.9045788805832411, 0.9109624861572534, 0.9109624861572534, 0.9109624861572534, 0.9109624861572534, 0.9109624861572534, 0.9109624861572534, 0.9109624861572534, 0.9109624861572534, 0.9109624861572534, 0.9109624861572534, 0.9109624861572534, 0.9109624861572534, 0.9109624861572534, 0.9109624861572534, 0.9109624861572534, 0.9109624861572534, 0.9109624861572534, 0.9109624861572534, 0.9109624861572534, 0.9109624861572534, 0.9113763842746401, 0.9113763842746401]}], \"log_loss\": [{\"categories\": [\"0\", \"1\", \"2\", \"3\", \"4\", \"5\", \"6\", \"7\", \"8\", \"9\", \"10\", \"11\", \"12\", \"13\", \"14\", \"15\", \"16\", \"17\", \"18\", \"19\", \"20\", \"21\", \"22\", \"23\", \"24\", \"25\", \"26\", \"27\", \"28\", \"29\"], \"mode\": \"markers\", \"name\": \"log_loss\", \"stepped\": false, \"type\": \"scatter\", \"data\": [0.5282491261622873, 0.43217688137359717, 0.39666564190429904, 0.3967207419717026, 0.3956206054350448, 0.4416471431670354, 0.4367675759786193, 0.5810587050300097, 0.36825121555707974, 0.5184056250785269, 0.3954154741659887, 0.4583476083735859, 0.41472333246893617, 0.5044404800443761, 0.413534191431023, 0.38308712079479734, 0.4030472993447596, 0.39065589631961734, 0.3855817635310157, 0.3892971840916043, 0.42381702643113783, 0.39424331638853444, 0.48738617928676964, 0.3905841575183293, 0.4758258022402936, 0.3932801830973858, 0.5072567431176431, 0.44408146738628906, 0.38200830698185706, 0.39690078561683545]}, {\"categories\": [\"0\", \"1\", \"2\", \"3\", \"4\", \"5\", \"6\", \"7\", \"8\", \"9\", \"10\", \"11\", \"12\", \"13\", \"14\", \"15\", \"16\", \"17\", \"18\", \"19\", \"20\", \"21\", \"22\", \"23\", \"24\", \"25\", \"26\", \"27\", \"28\", \"29\"], \"mode\": \"lines\", \"name\": \"log_loss_min\", \"stepped\": true, \"type\": \"scatter\", \"data\": [0.5282491261622873, 0.43217688137359717, 0.39666564190429904, 0.39666564190429904, 0.3956206054350448, 0.3956206054350448, 0.3956206054350448, 0.3956206054350448, 0.36825121555707974, 0.36825121555707974, 0.36825121555707974, 0.36825121555707974, 0.36825121555707974, 0.36825121555707974, 0.36825121555707974, 0.36825121555707974, 0.36825121555707974, 0.36825121555707974, 0.36825121555707974, 0.36825121555707974, 0.36825121555707974, 0.36825121555707974, 0.36825121555707974, 0.36825121555707974, 0.36825121555707974, 0.36825121555707974, 0.36825121555707974, 0.36825121555707974, 0.36825121555707974, 0.36825121555707974]}], \"weighted_accuracy\": [{\"categories\": [\"0\", \"1\", \"2\", \"3\", \"4\", \"5\", \"6\", \"7\", \"8\", \"9\", \"10\", \"11\", \"12\", \"13\", \"14\", \"15\", \"16\", \"17\", \"18\", \"19\", \"20\", \"21\", \"22\", \"23\", \"24\", \"25\", \"26\", \"27\", \"28\", \"29\"], \"mode\": \"markers\", \"name\": \"weighted_accuracy\", \"stepped\": false, \"type\": \"scatter\", \"data\": [0.8252063202764133, 0.8406325321291572, 0.8489845508842345, 0.8630821198216323, 0.8399800240950647, 0.8486545243367984, 0.875695370128797, 0.7735242910482674, 0.8498238554329095, 0.8032567402089587, 0.8637667221850588, 0.8513702623377982, 0.8533820798830117, 0.8628172670030745, 0.8839490475525128, 0.8511558006003572, 0.8528042475897724, 0.8595857248076539, 0.8520655347839009, 0.8758071273745243, 0.8644338240961364, 0.8731189342447088, 0.8359612739636877, 0.8453861578263829, 0.8342331962066142, 0.8570565970234394, 0.8209031651253822, 0.8163718355649913, 0.8950749382888548, 0.8748968375948956]}, {\"categories\": [\"0\", \"1\", \"2\", \"3\", \"4\", \"5\", \"6\", \"7\", \"8\", \"9\", \"10\", \"11\", \"12\", \"13\", \"14\", \"15\", \"16\", \"17\", \"18\", \"19\", \"20\", \"21\", \"22\", \"23\", \"24\", \"25\", \"26\", \"27\", \"28\", \"29\"], \"mode\": \"lines\", \"name\": \"weighted_accuracy_max\", \"stepped\": true, \"type\": \"scatter\", \"data\": [0.8252063202764133, 0.8406325321291572, 0.8489845508842345, 0.8630821198216323, 0.8630821198216323, 0.8630821198216323, 0.875695370128797, 0.875695370128797, 0.875695370128797, 0.875695370128797, 0.875695370128797, 0.875695370128797, 0.875695370128797, 0.875695370128797, 0.8839490475525128, 0.8839490475525128, 0.8839490475525128, 0.8839490475525128, 0.8839490475525128, 0.8839490475525128, 0.8839490475525128, 0.8839490475525128, 0.8839490475525128, 0.8839490475525128, 0.8839490475525128, 0.8839490475525128, 0.8839490475525128, 0.8839490475525128, 0.8950749382888548, 0.8950749382888548]}], \"norm_macro_recall\": [{\"categories\": [\"0\", \"1\", \"2\", \"3\", \"4\", \"5\", \"6\", \"7\", \"8\", \"9\", \"10\", \"11\", \"12\", \"13\", \"14\", \"15\", \"16\", \"17\", \"18\", \"19\", \"20\", \"21\", \"22\", \"23\", \"24\", \"25\", \"26\", \"27\", \"28\", \"29\"], \"mode\": \"markers\", \"name\": \"norm_macro_recall\", \"stepped\": false, \"type\": \"scatter\", \"data\": [0.5520418050941306, 0.6120251937984496, 0.5977643964562569, 0.5931215393133997, 0.6113275193798449, 0.6181132336655593, 0.5879000553709857, 0.2315227021040974, 0.6116846622369879, 0.275952380952381, 0.6199155592469545, 0.5625263012181616, 0.6086821705426356, 0.5280703211517166, 0.6152893133997785, 0.6293037098560355, 0.6083513289036546, 0.6384786821705426, 0.6109786821705427, 0.6553322259136213, 0.5848643410852713, 0.6106976744186047, 0.5156215393133998, 0.6116680509413068, 0.4352131782945737, 0.5768037098560355, 0.2990393133997785, 0.6284288482834994, 0.6799404761904763, 0.6568203211517165]}, {\"categories\": [\"0\", \"1\", \"2\", \"3\", \"4\", \"5\", \"6\", \"7\", \"8\", \"9\", \"10\", \"11\", \"12\", \"13\", \"14\", \"15\", \"16\", \"17\", \"18\", \"19\", \"20\", \"21\", \"22\", \"23\", \"24\", \"25\", \"26\", \"27\", \"28\", \"29\"], \"mode\": \"lines\", \"name\": \"norm_macro_recall_max\", \"stepped\": true, \"type\": \"scatter\", \"data\": [0.5520418050941306, 0.6120251937984496, 0.6120251937984496, 0.6120251937984496, 0.6120251937984496, 0.6181132336655593, 0.6181132336655593, 0.6181132336655593, 0.6181132336655593, 0.6181132336655593, 0.6199155592469545, 0.6199155592469545, 0.6199155592469545, 0.6199155592469545, 0.6199155592469545, 0.6293037098560355, 0.6293037098560355, 0.6384786821705426, 0.6384786821705426, 0.6553322259136213, 0.6553322259136213, 0.6553322259136213, 0.6553322259136213, 0.6553322259136213, 0.6553322259136213, 0.6553322259136213, 0.6553322259136213, 0.6553322259136213, 0.6799404761904763, 0.6799404761904763]}], \"recall_score_weighted\": [{\"categories\": [\"0\", \"1\", \"2\", \"3\", \"4\", \"5\", \"6\", \"7\", \"8\", \"9\", \"10\", \"11\", \"12\", \"13\", \"14\", \"15\", \"16\", \"17\", \"18\", \"19\", \"20\", \"21\", \"22\", \"23\", \"24\", \"25\", \"26\", \"27\", \"28\", \"29\"], \"mode\": \"markers\", \"name\": \"recall_score_weighted\", \"stepped\": false, \"type\": \"scatter\", \"data\": [0.8059887005649717, 0.8259322033898304, 0.8293220338983052, 0.8358757062146893, 0.8260451977401129, 0.8326553672316385, 0.8428248587570621, 0.7090960451977402, 0.8327118644067797, 0.736045197740113, 0.8427683615819209, 0.8227118644067797, 0.8329943502824859, 0.8226553672316385, 0.8528248587570622, 0.836045197740113, 0.8327118644067797, 0.8428248587570621, 0.8327683615819209, 0.8561581920903955, 0.836271186440678, 0.8461581920903954, 0.8027118644067797, 0.8292090395480226, 0.7859887005649718, 0.8292655367231638, 0.7525988700564972, 0.8157627118644066, 0.8729943502824857, 0.8561581920903955]}, {\"categories\": [\"0\", \"1\", \"2\", \"3\", \"4\", \"5\", \"6\", \"7\", \"8\", \"9\", \"10\", \"11\", \"12\", \"13\", \"14\", \"15\", \"16\", \"17\", \"18\", \"19\", \"20\", \"21\", \"22\", \"23\", \"24\", \"25\", \"26\", \"27\", \"28\", \"29\"], \"mode\": \"lines\", \"name\": \"recall_score_weighted_max\", \"stepped\": true, \"type\": \"scatter\", \"data\": [0.8059887005649717, 0.8259322033898304, 0.8293220338983052, 0.8358757062146893, 0.8358757062146893, 0.8358757062146893, 0.8428248587570621, 0.8428248587570621, 0.8428248587570621, 0.8428248587570621, 0.8428248587570621, 0.8428248587570621, 0.8428248587570621, 0.8428248587570621, 0.8528248587570622, 0.8528248587570622, 0.8528248587570622, 0.8528248587570622, 0.8528248587570622, 0.8561581920903955, 0.8561581920903955, 0.8561581920903955, 0.8561581920903955, 0.8561581920903955, 0.8561581920903955, 0.8561581920903955, 0.8561581920903955, 0.8561581920903955, 0.8729943502824857, 0.8729943502824857]}], \"precision_score_macro\": [{\"categories\": [\"0\", \"1\", \"2\", \"3\", \"4\", \"5\", \"6\", \"7\", \"8\", \"9\", \"10\", \"11\", \"12\", \"13\", \"14\", \"15\", \"16\", \"17\", \"18\", \"19\", \"20\", \"21\", \"22\", \"23\", \"24\", \"25\", \"26\", \"27\", \"28\", \"29\"], \"mode\": \"markers\", \"name\": \"precision_score_macro\", \"stepped\": false, \"type\": \"scatter\", \"data\": [0.7889041743265773, 0.8086642059265495, 0.8147964827083347, 0.8149274619210892, 0.8062903762903761, 0.8089020525712372, 0.8377322229103058, 0.6777540200889257, 0.8148825216038811, 0.7693400768179093, 0.8249697791708787, 0.8106583750313735, 0.8298263723233414, 0.8233427852120861, 0.8603399613299988, 0.8145673843700159, 0.8173139243317007, 0.8268026361030211, 0.8150396825396825, 0.8444941785902884, 0.8246997106615156, 0.8425044946309667, 0.7998373741915941, 0.805591837103465, 0.7987952889038381, 0.8094753114111966, 0.7657219797538947, 0.7895123005649323, 0.8825869002123199, 0.8483304051117336]}, {\"categories\": [\"0\", \"1\", \"2\", \"3\", \"4\", \"5\", \"6\", \"7\", \"8\", \"9\", \"10\", \"11\", \"12\", \"13\", \"14\", \"15\", \"16\", \"17\", \"18\", \"19\", \"20\", \"21\", \"22\", \"23\", \"24\", \"25\", \"26\", \"27\", \"28\", \"29\"], \"mode\": \"lines\", \"name\": \"precision_score_macro_max\", \"stepped\": true, \"type\": \"scatter\", \"data\": [0.7889041743265773, 0.8086642059265495, 0.8147964827083347, 0.8149274619210892, 0.8149274619210892, 0.8149274619210892, 0.8377322229103058, 0.8377322229103058, 0.8377322229103058, 0.8377322229103058, 0.8377322229103058, 0.8377322229103058, 0.8377322229103058, 0.8377322229103058, 0.8603399613299988, 0.8603399613299988, 0.8603399613299988, 0.8603399613299988, 0.8603399613299988, 0.8603399613299988, 0.8603399613299988, 0.8603399613299988, 0.8603399613299988, 0.8603399613299988, 0.8603399613299988, 0.8603399613299988, 0.8603399613299988, 0.8603399613299988, 0.8825869002123199, 0.8825869002123199]}], \"recall_score_micro\": [{\"categories\": [\"0\", \"1\", \"2\", \"3\", \"4\", \"5\", \"6\", \"7\", \"8\", \"9\", \"10\", \"11\", \"12\", \"13\", \"14\", \"15\", \"16\", \"17\", \"18\", \"19\", \"20\", \"21\", \"22\", \"23\", \"24\", \"25\", \"26\", \"27\", \"28\", \"29\"], \"mode\": \"markers\", \"name\": \"recall_score_micro\", \"stepped\": false, \"type\": \"scatter\", \"data\": [0.8059887005649717, 0.8259322033898304, 0.8293220338983052, 0.8358757062146893, 0.8260451977401129, 0.8326553672316385, 0.8428248587570621, 0.7090960451977402, 0.8327118644067797, 0.736045197740113, 0.8427683615819209, 0.8227118644067797, 0.8329943502824859, 0.8226553672316385, 0.8528248587570622, 0.836045197740113, 0.8327118644067797, 0.8428248587570621, 0.8327683615819209, 0.8561581920903955, 0.836271186440678, 0.8461581920903954, 0.8027118644067797, 0.8292090395480226, 0.7859887005649718, 0.8292655367231638, 0.7525988700564972, 0.8157627118644066, 0.8729943502824857, 0.8561581920903955]}, {\"categories\": [\"0\", \"1\", \"2\", \"3\", \"4\", \"5\", \"6\", \"7\", \"8\", \"9\", \"10\", \"11\", \"12\", \"13\", \"14\", \"15\", \"16\", \"17\", \"18\", \"19\", \"20\", \"21\", \"22\", \"23\", \"24\", \"25\", \"26\", \"27\", \"28\", \"29\"], \"mode\": \"lines\", \"name\": \"recall_score_micro_max\", \"stepped\": true, \"type\": \"scatter\", \"data\": [0.8059887005649717, 0.8259322033898304, 0.8293220338983052, 0.8358757062146893, 0.8358757062146893, 0.8358757062146893, 0.8428248587570621, 0.8428248587570621, 0.8428248587570621, 0.8428248587570621, 0.8428248587570621, 0.8428248587570621, 0.8428248587570621, 0.8428248587570621, 0.8528248587570622, 0.8528248587570622, 0.8528248587570622, 0.8528248587570622, 0.8528248587570622, 0.8561581920903955, 0.8561581920903955, 0.8561581920903955, 0.8561581920903955, 0.8561581920903955, 0.8561581920903955, 0.8561581920903955, 0.8561581920903955, 0.8561581920903955, 0.8729943502824857, 0.8729943502824857]}], \"average_precision_score_macro\": [{\"categories\": [\"0\", \"1\", \"2\", \"3\", \"4\", \"5\", \"6\", \"7\", \"8\", \"9\", \"10\", \"11\", \"12\", \"13\", \"14\", \"15\", \"16\", \"17\", \"18\", \"19\", \"20\", \"21\", \"22\", \"23\", \"24\", \"25\", \"26\", \"27\", \"28\", \"29\"], \"mode\": \"markers\", \"name\": \"average_precision_score_macro\", \"stepped\": false, \"type\": \"scatter\", \"data\": [0.8655792376041671, 0.8826936933050062, 0.8771351714263023, 0.8902355797299331, 0.8749946484444585, 0.8703811201751955, 0.8764160988353247, 0.7184634262666745, 0.9000220710115437, 0.799425832504898, 0.9022197117064208, 0.851284927554245, 0.8756968477195303, 0.8701786665611053, 0.8854636203186861, 0.8870893191088423, 0.8944659180379526, 0.8808905097882457, 0.8912269869384465, 0.8790341187981128, 0.8535221566405629, 0.8827141677722498, 0.8349810331652406, 0.8861497860197523, 0.8789888811005675, 0.8921602708010934, 0.8349211124106791, 0.8976618440415335, 0.8925049947273557, 0.8930101908456463]}, {\"categories\": [\"0\", \"1\", \"2\", \"3\", \"4\", \"5\", \"6\", \"7\", \"8\", \"9\", \"10\", \"11\", \"12\", \"13\", \"14\", \"15\", \"16\", \"17\", \"18\", \"19\", \"20\", \"21\", \"22\", \"23\", \"24\", \"25\", \"26\", \"27\", \"28\", \"29\"], \"mode\": \"lines\", \"name\": \"average_precision_score_macro_max\", \"stepped\": true, \"type\": \"scatter\", \"data\": [0.8655792376041671, 0.8826936933050062, 0.8826936933050062, 0.8902355797299331, 0.8902355797299331, 0.8902355797299331, 0.8902355797299331, 0.8902355797299331, 0.9000220710115437, 0.9000220710115437, 0.9022197117064208, 0.9022197117064208, 0.9022197117064208, 0.9022197117064208, 0.9022197117064208, 0.9022197117064208, 0.9022197117064208, 0.9022197117064208, 0.9022197117064208, 0.9022197117064208, 0.9022197117064208, 0.9022197117064208, 0.9022197117064208, 0.9022197117064208, 0.9022197117064208, 0.9022197117064208, 0.9022197117064208, 0.9022197117064208, 0.9022197117064208, 0.9022197117064208]}], \"accuracy\": [{\"categories\": [\"0\", \"1\", \"2\", \"3\", \"4\", \"5\", \"6\", \"7\", \"8\", \"9\", \"10\", \"11\", \"12\", \"13\", \"14\", \"15\", \"16\", \"17\", \"18\", \"19\", \"20\", \"21\", \"22\", \"23\", \"24\", \"25\", \"26\", \"27\", \"28\", \"29\"], \"mode\": \"markers\", \"name\": \"accuracy\", \"stepped\": false, \"type\": \"scatter\", \"data\": [0.8059887005649717, 0.8259322033898304, 0.8293220338983052, 0.8358757062146893, 0.8260451977401129, 0.8326553672316385, 0.8428248587570621, 0.7090960451977402, 0.8327118644067797, 0.736045197740113, 0.8427683615819209, 0.8227118644067797, 0.8329943502824859, 0.8226553672316385, 0.8528248587570622, 0.836045197740113, 0.8327118644067797, 0.8428248587570621, 0.8327683615819209, 0.8561581920903955, 0.836271186440678, 0.8461581920903954, 0.8027118644067797, 0.8292090395480226, 0.7859887005649718, 0.8292655367231638, 0.7525988700564972, 0.8157627118644066, 0.8729943502824857, 0.8561581920903955]}, {\"categories\": [\"0\", \"1\", \"2\", \"3\", \"4\", \"5\", \"6\", \"7\", \"8\", \"9\", \"10\", \"11\", \"12\", \"13\", \"14\", \"15\", \"16\", \"17\", \"18\", \"19\", \"20\", \"21\", \"22\", \"23\", \"24\", \"25\", \"26\", \"27\", \"28\", \"29\"], \"mode\": \"lines\", \"name\": \"accuracy_max\", \"stepped\": true, \"type\": \"scatter\", \"data\": [0.8059887005649717, 0.8259322033898304, 0.8293220338983052, 0.8358757062146893, 0.8358757062146893, 0.8358757062146893, 0.8428248587570621, 0.8428248587570621, 0.8428248587570621, 0.8428248587570621, 0.8428248587570621, 0.8428248587570621, 0.8428248587570621, 0.8428248587570621, 0.8528248587570622, 0.8528248587570622, 0.8528248587570622, 0.8528248587570622, 0.8528248587570622, 0.8561581920903955, 0.8561581920903955, 0.8561581920903955, 0.8561581920903955, 0.8561581920903955, 0.8561581920903955, 0.8561581920903955, 0.8561581920903955, 0.8561581920903955, 0.8729943502824857, 0.8729943502824857]}], \"AUC_macro\": [{\"categories\": [\"0\", \"1\", \"2\", \"3\", \"4\", \"5\", \"6\", \"7\", \"8\", \"9\", \"10\", \"11\", \"12\", \"13\", \"14\", \"15\", \"16\", \"17\", \"18\", \"19\", \"20\", \"21\", \"22\", \"23\", \"24\", \"25\", \"26\", \"27\", \"28\", \"29\"], \"mode\": \"markers\", \"name\": \"AUC_macro\", \"stepped\": false, \"type\": \"scatter\", \"data\": [0.8811331210778885, 0.8929591177556295, 0.893203776762643, 0.9045788805832411, 0.9009431063122924, 0.886315176264304, 0.8877549372462165, 0.7394446982281285, 0.9109624861572536, 0.8303234588409006, 0.9099496816168328, 0.8940475959763751, 0.8876433877814691, 0.8888375899778517, 0.8901059662236989, 0.9031824935400516, 0.9056542312661499, 0.895641172942045, 0.9017520994832042, 0.8975282853451457, 0.8771003137689183, 0.8944780592469547, 0.8853673288113694, 0.8945483342561829, 0.8917597822074568, 0.9004085686600221, 0.852764742524917, 0.9070623385012919, 0.9113763842746401, 0.9098029946474714]}, {\"categories\": [\"0\", \"1\", \"2\", \"3\", \"4\", \"5\", \"6\", \"7\", \"8\", \"9\", \"10\", \"11\", \"12\", \"13\", \"14\", \"15\", \"16\", \"17\", \"18\", \"19\", \"20\", \"21\", \"22\", \"23\", \"24\", \"25\", \"26\", \"27\", \"28\", \"29\"], \"mode\": \"lines\", \"name\": \"AUC_macro_max\", \"stepped\": true, \"type\": \"scatter\", \"data\": [0.8811331210778885, 0.8929591177556295, 0.893203776762643, 0.9045788805832411, 0.9045788805832411, 0.9045788805832411, 0.9045788805832411, 0.9045788805832411, 0.9109624861572536, 0.9109624861572536, 0.9109624861572536, 0.9109624861572536, 0.9109624861572536, 0.9109624861572536, 0.9109624861572536, 0.9109624861572536, 0.9109624861572536, 0.9109624861572536, 0.9109624861572536, 0.9109624861572536, 0.9109624861572536, 0.9109624861572536, 0.9109624861572536, 0.9109624861572536, 0.9109624861572536, 0.9109624861572536, 0.9109624861572536, 0.9109624861572536, 0.9113763842746401, 0.9113763842746401]}], \"precision_score_weighted\": [{\"categories\": [\"0\", \"1\", \"2\", \"3\", \"4\", \"5\", \"6\", \"7\", \"8\", \"9\", \"10\", \"11\", \"12\", \"13\", \"14\", \"15\", \"16\", \"17\", \"18\", \"19\", \"20\", \"21\", \"22\", \"23\", \"24\", \"25\", \"26\", \"27\", \"28\", \"29\"], \"mode\": \"markers\", \"name\": \"precision_score_weighted\", \"stepped\": false, \"type\": \"scatter\", \"data\": [0.8237683758533973, 0.8403871377947292, 0.8405252915051772, 0.8436957714940586, 0.8422004586750351, 0.8445029132380144, 0.8487942712470377, 0.7188139875380042, 0.846718775009311, 0.7792163027878148, 0.8520844598718508, 0.8361078787627895, 0.8531774663897151, 0.8353061511935346, 0.8655378518496223, 0.850078460789879, 0.8453420227846185, 0.8560382513629398, 0.8452167518608198, 0.8683332149197256, 0.8505860683182771, 0.8595500654174952, 0.8226124253630431, 0.8422463910853741, 0.8100283809506728, 0.8380782224295362, 0.7783455005857939, 0.84416799178619, 0.8876404315985645, 0.8685311475104527]}, {\"categories\": [\"0\", \"1\", \"2\", \"3\", \"4\", \"5\", \"6\", \"7\", \"8\", \"9\", \"10\", \"11\", \"12\", \"13\", \"14\", \"15\", \"16\", \"17\", \"18\", \"19\", \"20\", \"21\", \"22\", \"23\", \"24\", \"25\", \"26\", \"27\", \"28\", \"29\"], \"mode\": \"lines\", \"name\": \"precision_score_weighted_max\", \"stepped\": true, \"type\": \"scatter\", \"data\": [0.8237683758533973, 0.8403871377947292, 0.8405252915051772, 0.8436957714940586, 0.8436957714940586, 0.8445029132380144, 0.8487942712470377, 0.8487942712470377, 0.8487942712470377, 0.8487942712470377, 0.8520844598718508, 0.8520844598718508, 0.8531774663897151, 0.8531774663897151, 0.8655378518496223, 0.8655378518496223, 0.8655378518496223, 0.8655378518496223, 0.8655378518496223, 0.8683332149197256, 0.8683332149197256, 0.8683332149197256, 0.8683332149197256, 0.8683332149197256, 0.8683332149197256, 0.8683332149197256, 0.8683332149197256, 0.8683332149197256, 0.8876404315985645, 0.8876404315985645]}], \"recall_score_macro\": [{\"categories\": [\"0\", \"1\", \"2\", \"3\", \"4\", \"5\", \"6\", \"7\", \"8\", \"9\", \"10\", \"11\", \"12\", \"13\", \"14\", \"15\", \"16\", \"17\", \"18\", \"19\", \"20\", \"21\", \"22\", \"23\", \"24\", \"25\", \"26\", \"27\", \"28\", \"29\"], \"mode\": \"markers\", \"name\": \"recall_score_macro\", \"stepped\": false, \"type\": \"scatter\", \"data\": [0.7760209025470652, 0.8060125968992248, 0.7988821982281284, 0.7965607696566999, 0.8056637596899225, 0.8090566168327797, 0.7939500276854928, 0.6157613510520488, 0.8058423311184939, 0.6379761904761905, 0.8099577796234773, 0.7812631506090808, 0.8043410852713178, 0.7640351605758582, 0.8076446566998893, 0.8146518549280177, 0.8041756644518273, 0.8192393410852713, 0.8054893410852714, 0.8276661129568106, 0.7924321705426356, 0.8053488372093023, 0.7578107696566999, 0.8058340254706534, 0.7176065891472868, 0.7884018549280176, 0.6495196566998892, 0.8142144241417497, 0.8399702380952381, 0.8284101605758583]}, {\"categories\": [\"0\", \"1\", \"2\", \"3\", \"4\", \"5\", \"6\", \"7\", \"8\", \"9\", \"10\", \"11\", \"12\", \"13\", \"14\", \"15\", \"16\", \"17\", \"18\", \"19\", \"20\", \"21\", \"22\", \"23\", \"24\", \"25\", \"26\", \"27\", \"28\", \"29\"], \"mode\": \"lines\", \"name\": \"recall_score_macro_max\", \"stepped\": true, \"type\": \"scatter\", \"data\": [0.7760209025470652, 0.8060125968992248, 0.8060125968992248, 0.8060125968992248, 0.8060125968992248, 0.8090566168327797, 0.8090566168327797, 0.8090566168327797, 0.8090566168327797, 0.8090566168327797, 0.8099577796234773, 0.8099577796234773, 0.8099577796234773, 0.8099577796234773, 0.8099577796234773, 0.8146518549280177, 0.8146518549280177, 0.8192393410852713, 0.8192393410852713, 0.8276661129568106, 0.8276661129568106, 0.8276661129568106, 0.8276661129568106, 0.8276661129568106, 0.8276661129568106, 0.8276661129568106, 0.8276661129568106, 0.8276661129568106, 0.8399702380952381, 0.8399702380952381]}], \"average_precision_score_micro\": [{\"categories\": [\"0\", \"1\", \"2\", \"3\", \"4\", \"5\", \"6\", \"7\", \"8\", \"9\", \"10\", \"11\", \"12\", \"13\", \"14\", \"15\", \"16\", \"17\", \"18\", \"19\", \"20\", \"21\", \"22\", \"23\", \"24\", \"25\", \"26\", \"27\", \"28\", \"29\"], \"mode\": \"markers\", \"name\": \"average_precision_score_micro\", \"stepped\": false, \"type\": \"scatter\", \"data\": [0.887958292631032, 0.9018582931163117, 0.9062058511337989, 0.9141949296976511, 0.907706585450281, 0.8942747694922831, 0.8944215741724463, 0.7632664439947955, 0.9169077855748405, 0.8377483843872803, 0.913204761089378, 0.8859490806858659, 0.893386848713541, 0.8857281642392479, 0.8996094537314351, 0.911278323949879, 0.9089915092663494, 0.9041299231987174, 0.9075803864052144, 0.9084146544622259, 0.8875850233283176, 0.9042447745018253, 0.8717751211308231, 0.905684958900458, 0.8836967687404573, 0.9082483991547672, 0.8629420368696422, 0.9014451260051388, 0.9181128357874785, 0.9114268073665024]}, {\"categories\": [\"0\", \"1\", \"2\", \"3\", \"4\", \"5\", \"6\", \"7\", \"8\", \"9\", \"10\", \"11\", \"12\", \"13\", \"14\", \"15\", \"16\", \"17\", \"18\", \"19\", \"20\", \"21\", \"22\", \"23\", \"24\", \"25\", \"26\", \"27\", \"28\", \"29\"], \"mode\": \"lines\", \"name\": \"average_precision_score_micro_max\", \"stepped\": true, \"type\": \"scatter\", \"data\": [0.887958292631032, 0.9018582931163117, 0.9062058511337989, 0.9141949296976511, 0.9141949296976511, 0.9141949296976511, 0.9141949296976511, 0.9141949296976511, 0.9169077855748405, 0.9169077855748405, 0.9169077855748405, 0.9169077855748405, 0.9169077855748405, 0.9169077855748405, 0.9169077855748405, 0.9169077855748405, 0.9169077855748405, 0.9169077855748405, 0.9169077855748405, 0.9169077855748405, 0.9169077855748405, 0.9169077855748405, 0.9169077855748405, 0.9169077855748405, 0.9169077855748405, 0.9169077855748405, 0.9169077855748405, 0.9169077855748405, 0.9181128357874785, 0.9181128357874785]}]}, \"metricName\": null, \"primaryMetricName\": \"accuracy\", \"showLegend\": false}, \"run_metrics\": [{\"name\": \"experiment_status\", \"run_id\": \"AutoML_3857386a-722a-4619-b6ff-1b5c7cb813c5\", \"categories\": [0, 1, 2, 3, 4, 5, 6, 7, 8, 9, 10, 11, 12, 13], \"series\": [{\"data\": [\"DatasetEvaluation\", \"FeaturesGeneration\", \"DatasetFeaturization\", \"DatasetFeaturizationCompleted\", \"DatasetCrossValidationSplit\", \"ModelSelection\", \"BestRunExplainModel\", \"ModelExplanationDataSetSetup\", \"PickSurrogateModel\", \"EngineeredFeatureExplanations\", \"EngineeredFeatureExplanations\", \"RawFeaturesExplanations\", \"RawFeaturesExplanations\", \"BestRunExplainModel\"]}]}, {\"name\": \"experiment_status_description\", \"run_id\": \"AutoML_3857386a-722a-4619-b6ff-1b5c7cb813c5\", \"categories\": [0, 1, 2, 3, 4, 5, 6, 7, 8, 9, 10, 11, 12, 13], \"series\": [{\"data\": [\"Gathering dataset statistics.\", \"Generating features for the dataset.\", \"Beginning to fit featurizers and featurize the dataset.\", \"Completed fit featurizers and featurizing the dataset.\", \"Generating individually featurized CV splits.\", \"Beginning model selection.\", \"Best run model explanations started\", \"Model explanations data setup completed\", \"Choosing LightGBM as the surrogate model for explanations\", \"Computation of engineered features started\", \"Computation of engineered features completed\", \"Computation of raw features started\", \"Computation of raw features completed\", \"Best run model explanations completed\"]}]}, {\"name\": \"average_precision_score_macro\", \"run_id\": \"AutoML_3857386a-722a-4619-b6ff-1b5c7cb813c5\", \"categories\": [0], \"series\": [{\"data\": [0.8925049947273557]}]}, {\"name\": \"average_precision_score_micro\", \"run_id\": \"AutoML_3857386a-722a-4619-b6ff-1b5c7cb813c5\", \"categories\": [0], \"series\": [{\"data\": [0.9181128357874785]}]}, {\"name\": \"AUC_micro\", \"run_id\": \"AutoML_3857386a-722a-4619-b6ff-1b5c7cb813c5\", \"categories\": [0], \"series\": [{\"data\": [0.916246959685914]}]}, {\"name\": \"recall_score_macro\", \"run_id\": \"AutoML_3857386a-722a-4619-b6ff-1b5c7cb813c5\", \"categories\": [0], \"series\": [{\"data\": [0.8399702380952381]}]}, {\"name\": \"precision_score_weighted\", \"run_id\": \"AutoML_3857386a-722a-4619-b6ff-1b5c7cb813c5\", \"categories\": [0], \"series\": [{\"data\": [0.8876404315985645]}]}, {\"name\": \"norm_macro_recall\", \"run_id\": \"AutoML_3857386a-722a-4619-b6ff-1b5c7cb813c5\", \"categories\": [0], \"series\": [{\"data\": [0.6799404761904763]}]}, {\"name\": \"precision_score_micro\", \"run_id\": \"AutoML_3857386a-722a-4619-b6ff-1b5c7cb813c5\", \"categories\": [0], \"series\": [{\"data\": [0.8729943502824857]}]}, {\"name\": \"AUC_macro\", \"run_id\": \"AutoML_3857386a-722a-4619-b6ff-1b5c7cb813c5\", \"categories\": [0], \"series\": [{\"data\": [0.9113763842746401]}]}, {\"name\": \"recall_score_micro\", \"run_id\": \"AutoML_3857386a-722a-4619-b6ff-1b5c7cb813c5\", \"categories\": [0], \"series\": [{\"data\": [0.8729943502824857]}]}, {\"name\": \"balanced_accuracy\", \"run_id\": \"AutoML_3857386a-722a-4619-b6ff-1b5c7cb813c5\", \"categories\": [0], \"series\": [{\"data\": [0.8399702380952381]}]}, {\"name\": \"average_precision_score_weighted\", \"run_id\": \"AutoML_3857386a-722a-4619-b6ff-1b5c7cb813c5\", \"categories\": [0], \"series\": [{\"data\": [0.9195761968618488]}]}, {\"name\": \"precision_score_macro\", \"run_id\": \"AutoML_3857386a-722a-4619-b6ff-1b5c7cb813c5\", \"categories\": [0], \"series\": [{\"data\": [0.8825869002123199]}]}, {\"name\": \"AUC_weighted\", \"run_id\": \"AutoML_3857386a-722a-4619-b6ff-1b5c7cb813c5\", \"categories\": [0], \"series\": [{\"data\": [0.9113763842746401]}]}, {\"name\": \"matthews_correlation\", \"run_id\": \"AutoML_3857386a-722a-4619-b6ff-1b5c7cb813c5\", \"categories\": [0], \"series\": [{\"data\": [0.7189991168025636]}]}, {\"name\": \"recall_score_weighted\", \"run_id\": \"AutoML_3857386a-722a-4619-b6ff-1b5c7cb813c5\", \"categories\": [0], \"series\": [{\"data\": [0.8729943502824857]}]}, {\"name\": \"weighted_accuracy\", \"run_id\": \"AutoML_3857386a-722a-4619-b6ff-1b5c7cb813c5\", \"categories\": [0], \"series\": [{\"data\": [0.8950749382888548]}]}, {\"name\": \"f1_score_macro\", \"run_id\": \"AutoML_3857386a-722a-4619-b6ff-1b5c7cb813c5\", \"categories\": [0], \"series\": [{\"data\": [0.8460326632991864]}]}, {\"name\": \"accuracy\", \"run_id\": \"AutoML_3857386a-722a-4619-b6ff-1b5c7cb813c5\", \"categories\": [0], \"series\": [{\"data\": [0.8729943502824857]}]}, {\"name\": \"log_loss\", \"run_id\": \"AutoML_3857386a-722a-4619-b6ff-1b5c7cb813c5\", \"categories\": [0], \"series\": [{\"data\": [0.38200830698185706]}]}, {\"name\": \"f1_score_micro\", \"run_id\": \"AutoML_3857386a-722a-4619-b6ff-1b5c7cb813c5\", \"categories\": [0], \"series\": [{\"data\": [0.8729943502824857]}]}, {\"name\": \"f1_score_weighted\", \"run_id\": \"AutoML_3857386a-722a-4619-b6ff-1b5c7cb813c5\", \"categories\": [0], \"series\": [{\"data\": [0.8672342871168602]}]}], \"run_logs\": \"\\nRun is completed.\", \"graph\": {}, \"widget_settings\": {\"childWidgetDisplay\": \"popup\", \"send_telemetry\": false, \"log_level\": \"INFO\", \"sdk_version\": \"1.20.0\"}, \"loading\": false}"
     },
     "metadata": {},
     "output_type": "display_data"
    }
   ],
   "source": [
    "RunDetails(remote_run).show()"
   ]
  },
  {
   "cell_type": "code",
   "execution_count": 7,
   "metadata": {
    "gather": {
     "logged": 1598431121770
    },
    "jupyter": {
     "outputs_hidden": false,
     "source_hidden": false
    },
    "nteract": {
     "transient": {
      "deleting": false
     }
    }
   },
   "outputs": [
    {
     "name": "stdout",
     "output_type": "stream",
     "text": [
      "The best run automl model\n",
      " Run(Experiment: AutomatedML,\n",
      "Id: AutoML_3857386a-722a-4619-b6ff-1b5c7cb813c5_28,\n",
      "Type: azureml.scriptrun,\n",
      "Status: Completed)\n",
      "\n",
      "The Id for best run is: AutoML_3857386a-722a-4619-b6ff-1b5c7cb813c5_28\n",
      "The Accuracy: is 0.8729943502824857\n"
     ]
    }
   ],
   "source": [
    "\n",
    "#getting the metrics required\n",
    "best_run_auto, fitted_model_auto = remote_run.get_output()\n",
    "best_run_metrics = best_run_auto.get_metrics()\n",
    "parameter_values = best_run_auto.get_details()['runDefinition']['arguments']\n",
    "\n",
    "print('The best run automl model\\n', best_run_auto)\n",
    "\n",
    "print('\\nThe Id for best run is:', best_run_auto.id)\n",
    "print('The Accuracy: is', best_run_metrics['accuracy'])\n",
    "\n"
   ]
  },
  {
   "cell_type": "markdown",
   "metadata": {},
   "source": [
    "## Best Model\n",
    "\n",
    "TODO: In the cell below, get the best model from the automl experiments and display all the properties of the model.\n",
    "\n"
   ]
  },
  {
   "cell_type": "code",
   "execution_count": 8,
   "metadata": {
    "gather": {
     "logged": 1598431425670
    },
    "jupyter": {
     "outputs_hidden": false,
     "source_hidden": false
    },
    "nteract": {
     "transient": {
      "deleting": false
     }
    }
   },
   "outputs": [
    {
     "name": "stdout",
     "output_type": "stream",
     "text": [
      "Run(Experiment: AutomatedML,\n",
      "Id: AutoML_3857386a-722a-4619-b6ff-1b5c7cb813c5_28,\n",
      "Type: azureml.scriptrun,\n",
      "Status: Completed)\n",
      "Pipeline(memory=None,\n",
      "         steps=[('datatransformer',\n",
      "                 DataTransformer(enable_dnn=None, enable_feature_sweeping=None,\n",
      "                                 feature_sweeping_config=None,\n",
      "                                 feature_sweeping_timeout=None,\n",
      "                                 featurization_config=None, force_text_dnn=None,\n",
      "                                 is_cross_validation=None,\n",
      "                                 is_onnx_compatible=None, logger=None,\n",
      "                                 observer=None, task=None, working_dir=None)),\n",
      "                ('prefittedsoftvotingclassifier',...\n",
      "                                                                                                objective=None,\n",
      "                                                                                                random_state=None,\n",
      "                                                                                                reg_alpha=0.3157894736842105,\n",
      "                                                                                                reg_lambda=0.2631578947368421,\n",
      "                                                                                                silent=True,\n",
      "                                                                                                subsample=0.05,\n",
      "                                                                                                subsample_for_bin=200000,\n",
      "                                                                                                subsample_freq=0,\n",
      "                                                                                                verbose=-10))],\n",
      "                                                                     verbose=False))],\n",
      "                                               flatten_transform=None,\n",
      "                                               weights=[0.14285714285714285,\n",
      "                                                        0.14285714285714285,\n",
      "                                                        0.14285714285714285,\n",
      "                                                        0.14285714285714285,\n",
      "                                                        0.2857142857142857,\n",
      "                                                        0.14285714285714285]))],\n",
      "         verbose=False)\n"
     ]
    }
   ],
   "source": [
    "# Retrieve and save your best automl model.\n",
    "best_run_model, fitted_model_a = remote_run.get_output()\n",
    "\n",
    "joblib.dump(fitted_model_a, \"model.joblib\")\n",
    "\n",
    "print(best_run_model)\n",
    "\n",
    "print(fitted_model_a)"
   ]
  },
  {
   "cell_type": "code",
   "execution_count": 9,
   "metadata": {
    "scrolled": false
   },
   "outputs": [
    {
     "name": "stdout",
     "output_type": "stream",
     "text": [
      "datatransformer\n",
      "{'enable_dnn': None,\n",
      " 'enable_feature_sweeping': None,\n",
      " 'feature_sweeping_config': None,\n",
      " 'feature_sweeping_timeout': None,\n",
      " 'featurization_config': None,\n",
      " 'force_text_dnn': None,\n",
      " 'is_cross_validation': None,\n",
      " 'is_onnx_compatible': None,\n",
      " 'logger': None,\n",
      " 'observer': None,\n",
      " 'task': None,\n",
      " 'working_dir': None}\n",
      "\n",
      "prefittedsoftvotingclassifier\n",
      "{'estimators': ['19', '14', '21', '17', '6', '5'],\n",
      " 'weights': [0.14285714285714285,\n",
      "             0.14285714285714285,\n",
      "             0.14285714285714285,\n",
      "             0.14285714285714285,\n",
      "             0.2857142857142857,\n",
      "             0.14285714285714285]}\n",
      "\n",
      "19 - sparsenormalizer\n",
      "{'copy': True, 'norm': 'l1'}\n",
      "\n",
      "19 - lightgbmclassifier\n",
      "{'boosting_type': 'gbdt',\n",
      " 'class_weight': None,\n",
      " 'colsample_bytree': 0.7922222222222222,\n",
      " 'importance_type': 'split',\n",
      " 'learning_rate': 0.03158578947368421,\n",
      " 'max_bin': 140,\n",
      " 'max_depth': 7,\n",
      " 'min_child_samples': 5,\n",
      " 'min_child_weight': 4,\n",
      " 'min_split_gain': 0.3157894736842105,\n",
      " 'n_estimators': 200,\n",
      " 'n_jobs': 1,\n",
      " 'num_leaves': 71,\n",
      " 'objective': None,\n",
      " 'random_state': None,\n",
      " 'reg_alpha': 0.7368421052631579,\n",
      " 'reg_lambda': 0.5789473684210527,\n",
      " 'silent': True,\n",
      " 'subsample': 0.6931578947368422,\n",
      " 'subsample_for_bin': 200000,\n",
      " 'subsample_freq': 0,\n",
      " 'verbose': -10}\n",
      "\n",
      "14 - robustscaler\n",
      "{'copy': True,\n",
      " 'quantile_range': [25, 75],\n",
      " 'with_centering': True,\n",
      " 'with_scaling': False}\n",
      "\n",
      "14 - extratreesclassifier\n",
      "{'bootstrap': True,\n",
      " 'ccp_alpha': 0.0,\n",
      " 'class_weight': None,\n",
      " 'criterion': 'gini',\n",
      " 'max_depth': None,\n",
      " 'max_features': None,\n",
      " 'max_leaf_nodes': None,\n",
      " 'max_samples': None,\n",
      " 'min_impurity_decrease': 0.0,\n",
      " 'min_impurity_split': None,\n",
      " 'min_samples_leaf': 0.035789473684210524,\n",
      " 'min_samples_split': 0.15052631578947367,\n",
      " 'min_weight_fraction_leaf': 0.0,\n",
      " 'n_estimators': 50,\n",
      " 'n_jobs': 1,\n",
      " 'oob_score': False,\n",
      " 'random_state': None,\n",
      " 'verbose': 0,\n",
      " 'warm_start': False}\n",
      "\n",
      "21 - sparsenormalizer\n",
      "{'copy': True, 'norm': 'l2'}\n",
      "\n",
      "21 - xgboostclassifier\n",
      "{'base_score': 0.5,\n",
      " 'booster': 'gbtree',\n",
      " 'colsample_bylevel': 1,\n",
      " 'colsample_bynode': 1,\n",
      " 'colsample_bytree': 1,\n",
      " 'eta': 0.5,\n",
      " 'gamma': 0.01,\n",
      " 'learning_rate': 0.1,\n",
      " 'max_delta_step': 0,\n",
      " 'max_depth': 8,\n",
      " 'max_leaves': 31,\n",
      " 'min_child_weight': 1,\n",
      " 'missing': nan,\n",
      " 'n_estimators': 50,\n",
      " 'n_jobs': 1,\n",
      " 'nthread': None,\n",
      " 'objective': 'reg:logistic',\n",
      " 'random_state': 0,\n",
      " 'reg_alpha': 1.1458333333333335,\n",
      " 'reg_lambda': 1.25,\n",
      " 'scale_pos_weight': 1,\n",
      " 'seed': None,\n",
      " 'silent': None,\n",
      " 'subsample': 0.6,\n",
      " 'tree_method': 'auto',\n",
      " 'verbose': -10,\n",
      " 'verbosity': 0}\n",
      "\n",
      "17 - sparsenormalizer\n",
      "{'copy': True, 'norm': 'max'}\n",
      "\n",
      "17 - xgboostclassifier\n",
      "{'base_score': 0.5,\n",
      " 'booster': 'gbtree',\n",
      " 'colsample_bylevel': 0.7,\n",
      " 'colsample_bynode': 1,\n",
      " 'colsample_bytree': 1,\n",
      " 'eta': 0.2,\n",
      " 'gamma': 0,\n",
      " 'learning_rate': 0.1,\n",
      " 'max_delta_step': 0,\n",
      " 'max_depth': 4,\n",
      " 'max_leaves': 0,\n",
      " 'min_child_weight': 1,\n",
      " 'missing': nan,\n",
      " 'n_estimators': 100,\n",
      " 'n_jobs': 1,\n",
      " 'nthread': None,\n",
      " 'objective': 'reg:logistic',\n",
      " 'random_state': 0,\n",
      " 'reg_alpha': 2.5,\n",
      " 'reg_lambda': 1.5625,\n",
      " 'scale_pos_weight': 1,\n",
      " 'seed': None,\n",
      " 'silent': None,\n",
      " 'subsample': 1,\n",
      " 'tree_method': 'auto',\n",
      " 'verbose': -10,\n",
      " 'verbosity': 0}\n",
      "\n",
      "6 - maxabsscaler\n",
      "{'copy': True}\n",
      "\n",
      "6 - randomforestclassifier\n",
      "{'bootstrap': False,\n",
      " 'ccp_alpha': 0.0,\n",
      " 'class_weight': None,\n",
      " 'criterion': 'entropy',\n",
      " 'max_depth': None,\n",
      " 'max_features': 0.2,\n",
      " 'max_leaf_nodes': None,\n",
      " 'max_samples': None,\n",
      " 'min_impurity_decrease': 0.0,\n",
      " 'min_impurity_split': None,\n",
      " 'min_samples_leaf': 0.01,\n",
      " 'min_samples_split': 0.19736842105263158,\n",
      " 'min_weight_fraction_leaf': 0.0,\n",
      " 'n_estimators': 50,\n",
      " 'n_jobs': 1,\n",
      " 'oob_score': False,\n",
      " 'random_state': None,\n",
      " 'verbose': 0,\n",
      " 'warm_start': False}\n",
      "\n",
      "5 - robustscaler\n",
      "{'copy': True,\n",
      " 'quantile_range': [25, 75],\n",
      " 'with_centering': True,\n",
      " 'with_scaling': False}\n",
      "\n",
      "5 - lightgbmclassifier\n",
      "{'boosting_type': 'gbdt',\n",
      " 'class_weight': None,\n",
      " 'colsample_bytree': 0.99,\n",
      " 'importance_type': 'split',\n",
      " 'learning_rate': 0.06316157894736842,\n",
      " 'max_bin': 340,\n",
      " 'max_depth': 9,\n",
      " 'min_child_samples': 9,\n",
      " 'min_child_weight': 4,\n",
      " 'min_split_gain': 0.05263157894736842,\n",
      " 'n_estimators': 800,\n",
      " 'n_jobs': 1,\n",
      " 'num_leaves': 155,\n",
      " 'objective': None,\n",
      " 'random_state': None,\n",
      " 'reg_alpha': 0.3157894736842105,\n",
      " 'reg_lambda': 0.2631578947368421,\n",
      " 'silent': True,\n",
      " 'subsample': 0.05,\n",
      " 'subsample_for_bin': 200000,\n",
      " 'subsample_freq': 0,\n",
      " 'verbose': -10}\n",
      "\n"
     ]
    }
   ],
   "source": [
    "#print the estimators\n",
    "from pprint import pprint\n",
    "\n",
    "def print_model(model, prefix=\"\"):\n",
    "    for step in model.steps:\n",
    "        print(prefix + step[0])\n",
    "        if hasattr(step[1], 'estimators') and hasattr(step[1], 'weights'):\n",
    "            pprint({'estimators': list(\n",
    "                e[0] for e in step[1].estimators), 'weights': step[1].weights})\n",
    "            print()\n",
    "            for estimator in step[1].estimators:\n",
    "                print_model(estimator[1], estimator[0] + ' - ')\n",
    "        else:\n",
    "            pprint(step[1].get_params())\n",
    "            print()\n",
    "\n",
    "print_model(fitted_model_a)"
   ]
  },
  {
   "cell_type": "code",
   "execution_count": 11,
   "metadata": {},
   "outputs": [
    {
     "name": "stdout",
     "output_type": "stream",
     "text": [
      "PreFittedSoftVotingClassifier(classification_labels=None,\n",
      "                              estimators=[('19',\n",
      "                                           Pipeline(memory=None,\n",
      "                                                    steps=[('sparsenormalizer',\n",
      "                                                            <azureml.automl.runtime.shared.model_wrappers.SparseNormalizer object at 0x7f6730451860>),\n",
      "                                                           ('lightgbmclassifier',\n",
      "                                                            LightGBMClassifier(boosting_type='gbdt',\n",
      "                                                                               class_weight=None,\n",
      "                                                                               colsample_bytree=0.7922222222222222,\n",
      "                                                                               importance_type='split',...\n",
      "                                                                               num_leaves=155,\n",
      "                                                                               objective=None,\n",
      "                                                                               random_state=None,\n",
      "                                                                               reg_alpha=0.3157894736842105,\n",
      "                                                                               reg_lambda=0.2631578947368421,\n",
      "                                                                               silent=True,\n",
      "                                                                               subsample=0.05,\n",
      "                                                                               subsample_for_bin=200000,\n",
      "                                                                               subsample_freq=0,\n",
      "                                                                               verbose=-10))],\n",
      "                                                    verbose=False))],\n",
      "                              flatten_transform=None,\n",
      "                              weights=[0.14285714285714285, 0.14285714285714285,\n",
      "                                       0.14285714285714285, 0.14285714285714285,\n",
      "                                       0.2857142857142857,\n",
      "                                       0.14285714285714285])\n"
     ]
    }
   ],
   "source": [
    "#final estimator\n",
    "print(fitted_model_a._final_estimator)\n"
   ]
  },
  {
   "cell_type": "code",
   "execution_count": 12,
   "metadata": {
    "gather": {
     "logged": 1598431426111
    },
    "jupyter": {
     "outputs_hidden": false,
     "source_hidden": false
    },
    "nteract": {
     "transient": {
      "deleting": false
     }
    }
   },
   "outputs": [],
   "source": [
    "#Register the model \"best-model_auto.joblib\"\n",
    "the_bestmodel = best_run_model.register_model(model_name='best-model_auto.joblib', model_path='./')"
   ]
  },
  {
   "cell_type": "code",
   "execution_count": 13,
   "metadata": {},
   "outputs": [
    {
     "data": {
      "text/plain": [
       "Model(workspace=Workspace.create(name='quick-starts-ws-136095', subscription_id='3d1a56d2-7c81-4118-9790-f85d1acf0c77', resource_group='aml-quickstarts-136095'), name=best-model_auto.joblib, id=best-model_auto.joblib:1, version=1, tags={}, properties={})"
      ]
     },
     "execution_count": 13,
     "metadata": {},
     "output_type": "execute_result"
    }
   ],
   "source": [
    "#display the best model \n",
    "the_bestmodel"
   ]
  },
  {
   "cell_type": "code",
   "execution_count": null,
   "metadata": {},
   "outputs": [],
   "source": []
  }
 ],
 "metadata": {
  "kernel_info": {
   "name": "python3-azureml"
  },
  "kernelspec": {
   "display_name": "Python 3",
   "language": "python",
   "name": "python3"
  },
  "language_info": {
   "codemirror_mode": {
    "name": "ipython",
    "version": 3
   },
   "file_extension": ".py",
   "mimetype": "text/x-python",
   "name": "python",
   "nbconvert_exporter": "python",
   "pygments_lexer": "ipython3",
   "version": "3.8.3"
  },
  "nteract": {
   "version": "nteract-front-end@1.0.0"
  }
 },
 "nbformat": 4,
 "nbformat_minor": 2
}
